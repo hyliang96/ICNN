{
 "nbformat": 4,
 "nbformat_minor": 2,
 "metadata": {
  "language_info": {
   "name": "python",
   "codemirror_mode": {
    "name": "ipython",
    "version": 3
   },
   "version": "3.7.3"
  },
  "orig_nbformat": 2,
  "file_extension": ".py",
  "mimetype": "text/x-python",
  "name": "python",
  "npconvert_exporter": "python",
  "pygments_lexer": "ipython3",
  "version": 3
 },
 "cells": [
  {
   "cell_type": "code",
   "execution_count": 30,
   "metadata": {},
   "outputs": [],
   "source": [
    "import sys, os, torch, torchvision\n",
    "import numpy as np\n",
    "sys.path.append('/mfs/haoyu/project/CDCNN/ICNN/Official_Model_For_Paper/ModelTraining/TwoStep_Algorithm1_Clip')\n",
    "from resnet_std import resent as resnet_std\n",
    "from resnet_std import ResNet\n",
    "from VOCPart import VOCPart\n",
    "from tqdm import tqdm\n",
    "os.environ[\"CUDA_VISIBLE_DEVICES\"] = \"1\"\n",
    "device_str = \"cuda:0\"\n",
    "device = torch.device(device_str)"
   ]
  },
  {
   "cell_type": "code",
   "execution_count": 31,
   "metadata": {},
   "outputs": [],
   "source": [
    "\n",
    "ResNet.forward = ResNet.get_feature_map\n",
    "\n",
    "# res152_bs32_adam_lr1e-5_lrreg1e-3_lmd1e-3_frozen_frz5:4_pre10-3:2     epoch110\n",
    "# res152_bs32_adam_lr1e-3_lrreg1e-3_lmd1e-3_frozen_6:2                  epoch150\n",
    "exp_dir = { 'LSG': '/mfs/haoyu/project/CDCNN/ICNN_exp/VOCPart_train0.7_128_pretrained/res152_bs32_adam_lr1e-5_lrreg1e-3_lmd1e-3_frozen_frz5:4_pre10-3:2',\n",
    "            'naive' : '/mfs/haoyu/project/CDCNN/ICNN_exp/VOCPart_train0.7_128_pretrained/naive_res152_bs32_adam_lr1e-5_lrreg1e-3_lmd1e-3_frozen_3:2'}\n",
    "# naive_res152_bs32_adam_lr1e-5   epoch110\n",
    "# naive_res152_bs32_adam_lr1e-5_lrreg1e-3_lmd1e-3_frozen_3:2   epoch150\n",
    "model = {} \n",
    "for method in ['LSG', 'naive']:\n",
    "    ifmask = method == 'LSG'\n",
    "    model[method] = resnet_std(depth=152, num_classes=6, pretrained=True, ifmask=ifmask)\n",
    "    model[method] = model[method].to(device)\n",
    "    model[method] = torch.nn.DataParallel(model[method]) # device_ids=args.gpu_ids\n",
    "    # patch_replication_callback(model)\n",
    "    unfinished_model_path = os.path.join(exp_dir[method] , 'unfinished_model_150.pt')\n",
    "    checkpoint = torch.load(unfinished_model_path,map_location={'cuda:0': device_str})\n",
    "    model[method].load_state_dict(checkpoint['model_state_dict'])\n",
    "# optimizer.load_state_dict(checkpoint['optimizer_state_dict'])\n",
    "# epoch = checkpoint['epoch']+1\n",
    "# loss = checkpoint['loss']\n"
   ]
  },
  {
   "cell_type": "code",
   "execution_count": 32,
   "metadata": {},
   "outputs": [
    {
     "name": "stdout",
     "output_type": "stream",
     "text": "mask (2048, 6)\n"
    },
    {
     "data": {
      "image/png": "[encoded data removed]",
      "image/svg+xml": "<?xml version=\"1.0\" encoding=\"utf-8\" standalone=\"no\"?>\n<!DOCTYPE svg PUBLIC \"-//W3C//DTD SVG 1.1//EN\"\n  \"http://www.w3.org/Graphics/SVG/1.1/DTD/svg11.dtd\">\n<!-- Created with matplotlib (https://matplotlib.org/) -->\n<svg height=\"248.518125pt\" version=\"1.1\" viewBox=\"0 0 108.897625 248.518125\" width=\"108.897625pt\" xmlns=\"http://www.w3.org/2000/svg\" xmlns:xlink=\"http://www.w3.org/1999/xlink\">\n <defs>\n  <style type=\"text/css\">\n*{stroke-linecap:butt;stroke-linejoin:round;}\n  </style>\n </defs>\n <g id=\"figure_1\">\n  <g id=\"patch_1\">\n   <path d=\"M 0 248.518125 \nL 108.897625 248.518125 \nL 108.897625 0 \nL 0 0 \nz\n\" style=\"fill:none;\"/>\n  </g>\n  <g id=\"axes_1\">\n   <g id=\"patch_2\">\n    <path d=\"M 36.465625 224.64 \nL 101.697625 224.64 \nL 101.697625 7.2 \nL 36.465625 7.2 \nz\n\" style=\"fill:#ffffff;\"/>\n   </g>\n   <g clip-path=\"url(#p210020a23f)\">\n    <image height=\"218\" id=\"imaged396271b45\" transform=\"scale(1 -1)translate(0 -218)\" width=\"66\" x=\"36.465625\" xlink:href=\"data:image/png;base64,\niVBORw0KGgoAAAANSUhEUgAAAEIAAADaCAYAAAASYZTGAAAABHNCSVQICAgIfAhkiAAAAnVJREFUeJzt3aGKVVEUgOG5MkWbVVCLIlgUg2WMgjaLTRCbUXwEH8OkmKZOnD4aDGIzaDKMQZuIGAYt/wPsPXDwzPB9eXE5/Kyw2dx7z+bu5uHfrUH7hx9HR7fuXbg5PLsGZ/73A6yFEBEiQkSICBEhIkSEiBARIkJEiAgRISJEhIgQESJCRIhszwwvdTO9httxGxEhIkSEiBARIkJEiAgRITJ1xF7qKDwz+/vB7eHZs3vvh2dtRISIEBEiQkSICBEhIkSEyNQRe+fZ0+HZt4cvh2dffL8+PPvuxvixeYaNiBARIkJEiAgRISJEhIgQ2cz83HEpviiyIkJEiAgRISJEhIgQESKbo29Xhk+Wuz/PD3/wq2uXh2c/v7k1PHv18Yfh2Rk2IkJEiAgRISJEhIgQESJCZBWXt0uZuRS2EREiQkSICBEhIkSEiBARIlNfQV7KGn49aCMiRISIEBEiQkSICBEhIkRO3B9pLMVGRIgIESEiRISIEBEiQkSI+Dvo2IgIESEiRISIEBEiQkSICBG32LERESJCRIgIESEiRISIEBEibrFjIyJEhIgQESJCRIgIESEiRE71LfbzL5+GZ21EhIgQESJCRIgIESEiRITI1BH7x9GvpZ5jEffP/RmetRERIkJEiAgRISJEhIgQESJTR+xHF3cWeYjXXw+GZ59curPIM9iICBEhIkSEiBARIkJEiEy9cWUNXxVeio2IEBEiQkSICBEhIkSEiBCZem/4STs2z7ARESJCRIgIESEiRISIEBEi26f52Oy94ccgRISIEBEiQkSICBEhIkRW8UcaS/He8GMQIkJEiAgRISJEhIgQESL/AAdeVotqcsFPAAAAAElFTkSuQmCC\" y=\"-6.64\"/>\n   </g>\n   <g id=\"matplotlib.axis_1\">\n    <g id=\"xtick_1\">\n     <g id=\"line2d_1\">\n      <defs>\n       <path d=\"M 0 0 \nL 0 3.5 \n\" id=\"m743ad23a7d\" style=\"stroke:#000000;stroke-width:0.8;\"/>\n      </defs>\n      <g>\n       <use style=\"stroke:#000000;stroke-width:0.8;\" x=\"41.901625\" xlink:href=\"#m743ad23a7d\" y=\"224.64\"/>\n      </g>\n     </g>\n     <g id=\"text_1\">\n      <!-- 0 -->\n      <defs>\n       <path d=\"M 31.78125 66.40625 \nQ 24.171875 66.40625 20.328125 58.90625 \nQ 16.5 51.421875 16.5 36.375 \nQ 16.5 21.390625 20.328125 13.890625 \nQ 24.171875 6.390625 31.78125 6.390625 \nQ 39.453125 6.390625 43.28125 13.890625 \nQ 47.125 21.390625 47.125 36.375 \nQ 47.125 51.421875 43.28125 58.90625 \nQ 39.453125 66.40625 31.78125 66.40625 \nz\nM 31.78125 74.21875 \nQ 44.046875 74.21875 50.515625 64.515625 \nQ 56.984375 54.828125 56.984375 36.375 \nQ 56.984375 17.96875 50.515625 8.265625 \nQ 44.046875 -1.421875 31.78125 -1.421875 \nQ 19.53125 -1.421875 13.0625 8.265625 \nQ 6.59375 17.96875 6.59375 36.375 \nQ 6.59375 54.828125 13.0625 64.515625 \nQ 19.53125 74.21875 31.78125 74.21875 \nz\n\" id=\"DejaVuSans-48\"/>\n      </defs>\n      <g transform=\"translate(38.720375 239.238438)scale(0.1 -0.1)\">\n       <use xlink:href=\"#DejaVuSans-48\"/>\n      </g>\n     </g>\n    </g>\n    <g id=\"xtick_2\">\n     <g id=\"line2d_2\">\n      <g>\n       <use style=\"stroke:#000000;stroke-width:0.8;\" x=\"96.261625\" xlink:href=\"#m743ad23a7d\" y=\"224.64\"/>\n      </g>\n     </g>\n     <g id=\"text_2\">\n      <!-- 5 -->\n      <defs>\n       <path d=\"M 10.796875 72.90625 \nL 49.515625 72.90625 \nL 49.515625 64.59375 \nL 19.828125 64.59375 \nL 19.828125 46.734375 \nQ 21.96875 47.46875 24.109375 47.828125 \nQ 26.265625 48.1875 28.421875 48.1875 \nQ 40.625 48.1875 47.75 41.5 \nQ 54.890625 34.8125 54.890625 23.390625 \nQ 54.890625 11.625 47.5625 5.09375 \nQ 40.234375 -1.421875 26.90625 -1.421875 \nQ 22.3125 -1.421875 17.546875 -0.640625 \nQ 12.796875 0.140625 7.71875 1.703125 \nL 7.71875 11.625 \nQ 12.109375 9.234375 16.796875 8.0625 \nQ 21.484375 6.890625 26.703125 6.890625 \nQ 35.15625 6.890625 40.078125 11.328125 \nQ 45.015625 15.765625 45.015625 23.390625 \nQ 45.015625 31 40.078125 35.4375 \nQ 35.15625 39.890625 26.703125 39.890625 \nQ 22.75 39.890625 18.8125 39.015625 \nQ 14.890625 38.140625 10.796875 36.28125 \nz\n\" id=\"DejaVuSans-53\"/>\n      </defs>\n      <g transform=\"translate(93.080375 239.238438)scale(0.1 -0.1)\">\n       <use xlink:href=\"#DejaVuSans-53\"/>\n      </g>\n     </g>\n    </g>\n   </g>\n   <g id=\"matplotlib.axis_2\">\n    <g id=\"ytick_1\">\n     <g id=\"line2d_3\">\n      <defs>\n       <path d=\"M 0 0 \nL -3.5 0 \n\" id=\"m78fbc5289d\" style=\"stroke:#000000;stroke-width:0.8;\"/>\n      </defs>\n      <g>\n       <use style=\"stroke:#000000;stroke-width:0.8;\" x=\"36.465625\" xlink:href=\"#m78fbc5289d\" y=\"12.636\"/>\n      </g>\n     </g>\n     <g id=\"text_3\">\n      <!-- 0.0 -->\n      <defs>\n       <path d=\"M 10.6875 12.40625 \nL 21 12.40625 \nL 21 0 \nL 10.6875 0 \nz\n\" id=\"DejaVuSans-46\"/>\n      </defs>\n      <g transform=\"translate(13.5625 16.435219)scale(0.1 -0.1)\">\n       <use xlink:href=\"#DejaVuSans-48\"/>\n       <use x=\"63.623047\" xlink:href=\"#DejaVuSans-46\"/>\n       <use x=\"95.410156\" xlink:href=\"#DejaVuSans-48\"/>\n      </g>\n     </g>\n    </g>\n    <g id=\"ytick_2\">\n     <g id=\"line2d_4\">\n      <g>\n       <use style=\"stroke:#000000;stroke-width:0.8;\" x=\"36.465625\" xlink:href=\"#m78fbc5289d\" y=\"39.816\"/>\n      </g>\n     </g>\n     <g id=\"text_4\">\n      <!-- 2.5 -->\n      <defs>\n       <path d=\"M 19.1875 8.296875 \nL 53.609375 8.296875 \nL 53.609375 0 \nL 7.328125 0 \nL 7.328125 8.296875 \nQ 12.9375 14.109375 22.625 23.890625 \nQ 32.328125 33.6875 34.8125 36.53125 \nQ 39.546875 41.84375 41.421875 45.53125 \nQ 43.3125 49.21875 43.3125 52.78125 \nQ 43.3125 58.59375 39.234375 62.25 \nQ 35.15625 65.921875 28.609375 65.921875 \nQ 23.96875 65.921875 18.8125 64.3125 \nQ 13.671875 62.703125 7.8125 59.421875 \nL 7.8125 69.390625 \nQ 13.765625 71.78125 18.9375 73 \nQ 24.125 74.21875 28.421875 74.21875 \nQ 39.75 74.21875 46.484375 68.546875 \nQ 53.21875 62.890625 53.21875 53.421875 \nQ 53.21875 48.921875 51.53125 44.890625 \nQ 49.859375 40.875 45.40625 35.40625 \nQ 44.1875 33.984375 37.640625 27.21875 \nQ 31.109375 20.453125 19.1875 8.296875 \nz\n\" id=\"DejaVuSans-50\"/>\n      </defs>\n      <g transform=\"translate(13.5625 43.615219)scale(0.1 -0.1)\">\n       <use xlink:href=\"#DejaVuSans-50\"/>\n       <use x=\"63.623047\" xlink:href=\"#DejaVuSans-46\"/>\n       <use x=\"95.410156\" xlink:href=\"#DejaVuSans-53\"/>\n      </g>\n     </g>\n    </g>\n    <g id=\"ytick_3\">\n     <g id=\"line2d_5\">\n      <g>\n       <use style=\"stroke:#000000;stroke-width:0.8;\" x=\"36.465625\" xlink:href=\"#m78fbc5289d\" y=\"66.996\"/>\n      </g>\n     </g>\n     <g id=\"text_5\">\n      <!-- 5.0 -->\n      <g transform=\"translate(13.5625 70.795219)scale(0.1 -0.1)\">\n       <use xlink:href=\"#DejaVuSans-53\"/>\n       <use x=\"63.623047\" xlink:href=\"#DejaVuSans-46\"/>\n       <use x=\"95.410156\" xlink:href=\"#DejaVuSans-48\"/>\n      </g>\n     </g>\n    </g>\n    <g id=\"ytick_4\">\n     <g id=\"line2d_6\">\n      <g>\n       <use style=\"stroke:#000000;stroke-width:0.8;\" x=\"36.465625\" xlink:href=\"#m78fbc5289d\" y=\"94.176\"/>\n      </g>\n     </g>\n     <g id=\"text_6\">\n      <!-- 7.5 -->\n      <defs>\n       <path d=\"M 8.203125 72.90625 \nL 55.078125 72.90625 \nL 55.078125 68.703125 \nL 28.609375 0 \nL 18.3125 0 \nL 43.21875 64.59375 \nL 8.203125 64.59375 \nz\n\" id=\"DejaVuSans-55\"/>\n      </defs>\n      <g transform=\"translate(13.5625 97.975219)scale(0.1 -0.1)\">\n       <use xlink:href=\"#DejaVuSans-55\"/>\n       <use x=\"63.623047\" xlink:href=\"#DejaVuSans-46\"/>\n       <use x=\"95.410156\" xlink:href=\"#DejaVuSans-53\"/>\n      </g>\n     </g>\n    </g>\n    <g id=\"ytick_5\">\n     <g id=\"line2d_7\">\n      <g>\n       <use style=\"stroke:#000000;stroke-width:0.8;\" x=\"36.465625\" xlink:href=\"#m78fbc5289d\" y=\"121.356\"/>\n      </g>\n     </g>\n     <g id=\"text_7\">\n      <!-- 10.0 -->\n      <defs>\n       <path d=\"M 12.40625 8.296875 \nL 28.515625 8.296875 \nL 28.515625 63.921875 \nL 10.984375 60.40625 \nL 10.984375 69.390625 \nL 28.421875 72.90625 \nL 38.28125 72.90625 \nL 38.28125 8.296875 \nL 54.390625 8.296875 \nL 54.390625 0 \nL 12.40625 0 \nz\n\" id=\"DejaVuSans-49\"/>\n      </defs>\n      <g transform=\"translate(7.2 125.155219)scale(0.1 -0.1)\">\n       <use xlink:href=\"#DejaVuSans-49\"/>\n       <use x=\"63.623047\" xlink:href=\"#DejaVuSans-48\"/>\n       <use x=\"127.246094\" xlink:href=\"#DejaVuSans-46\"/>\n       <use x=\"159.033203\" xlink:href=\"#DejaVuSans-48\"/>\n      </g>\n     </g>\n    </g>\n    <g id=\"ytick_6\">\n     <g id=\"line2d_8\">\n      <g>\n       <use style=\"stroke:#000000;stroke-width:0.8;\" x=\"36.465625\" xlink:href=\"#m78fbc5289d\" y=\"148.536\"/>\n      </g>\n     </g>\n     <g id=\"text_8\">\n      <!-- 12.5 -->\n      <g transform=\"translate(7.2 152.335219)scale(0.1 -0.1)\">\n       <use xlink:href=\"#DejaVuSans-49\"/>\n       <use x=\"63.623047\" xlink:href=\"#DejaVuSans-50\"/>\n       <use x=\"127.246094\" xlink:href=\"#DejaVuSans-46\"/>\n       <use x=\"159.033203\" xlink:href=\"#DejaVuSans-53\"/>\n      </g>\n     </g>\n    </g>\n    <g id=\"ytick_7\">\n     <g id=\"line2d_9\">\n      <g>\n       <use style=\"stroke:#000000;stroke-width:0.8;\" x=\"36.465625\" xlink:href=\"#m78fbc5289d\" y=\"175.716\"/>\n      </g>\n     </g>\n     <g id=\"text_9\">\n      <!-- 15.0 -->\n      <g transform=\"translate(7.2 179.515219)scale(0.1 -0.1)\">\n       <use xlink:href=\"#DejaVuSans-49\"/>\n       <use x=\"63.623047\" xlink:href=\"#DejaVuSans-53\"/>\n       <use x=\"127.246094\" xlink:href=\"#DejaVuSans-46\"/>\n       <use x=\"159.033203\" xlink:href=\"#DejaVuSans-48\"/>\n      </g>\n     </g>\n    </g>\n    <g id=\"ytick_8\">\n     <g id=\"line2d_10\">\n      <g>\n       <use style=\"stroke:#000000;stroke-width:0.8;\" x=\"36.465625\" xlink:href=\"#m78fbc5289d\" y=\"202.896\"/>\n      </g>\n     </g>\n     <g id=\"text_10\">\n      <!-- 17.5 -->\n      <g transform=\"translate(7.2 206.695219)scale(0.1 -0.1)\">\n       <use xlink:href=\"#DejaVuSans-49\"/>\n       <use x=\"63.623047\" xlink:href=\"#DejaVuSans-55\"/>\n       <use x=\"127.246094\" xlink:href=\"#DejaVuSans-46\"/>\n       <use x=\"159.033203\" xlink:href=\"#DejaVuSans-53\"/>\n      </g>\n     </g>\n    </g>\n   </g>\n   <g id=\"patch_3\">\n    <path d=\"M 36.465625 224.64 \nL 36.465625 7.2 \n\" style=\"fill:none;stroke:#000000;stroke-linecap:square;stroke-linejoin:miter;stroke-width:0.8;\"/>\n   </g>\n   <g id=\"patch_4\">\n    <path d=\"M 101.697625 224.64 \nL 101.697625 7.2 \n\" style=\"fill:none;stroke:#000000;stroke-linecap:square;stroke-linejoin:miter;stroke-width:0.8;\"/>\n   </g>\n   <g id=\"patch_5\">\n    <path d=\"M 36.465625 224.64 \nL 101.697625 224.64 \n\" style=\"fill:none;stroke:#000000;stroke-linecap:square;stroke-linejoin:miter;stroke-width:0.8;\"/>\n   </g>\n   <g id=\"patch_6\">\n    <path d=\"M 36.465625 7.2 \nL 101.697625 7.2 \n\" style=\"fill:none;stroke:#000000;stroke-linecap:square;stroke-linejoin:miter;stroke-width:0.8;\"/>\n   </g>\n  </g>\n </g>\n <defs>\n  <clipPath id=\"p210020a23f\">\n   <rect height=\"217.44\" width=\"65.232\" x=\"36.465625\" y=\"7.2\"/>\n  </clipPath>\n </defs>\n</svg>\n",
      "text/plain": "<Figure size 432x288 with 1 Axes>"
     },
     "metadata": {
      "needs_background": "light"
     },
     "output_type": "display_data"
    }
   ],
   "source": [
    "mask = model['LSG'].module.lmask.mask.detach().cpu().numpy()\n",
    "print('mask',mask.shape)\n",
    "from matplotlib import pyplot as plt\n",
    "plt.imshow(mask[0:20,:])\n",
    "plt.show()\n",
    "\n",
    "num_channel, num_class = mask.shape"
   ]
  },
  {
   "cell_type": "code",
   "execution_count": 33,
   "metadata": {},
   "outputs": [
    {
     "name": "stdout",
     "output_type": "stream",
     "text": "val set\nimage size 128x128\nimage num = 1700\nnaive img_num = 212"
    }
   ],
   "source": [
    "dataset = VOCPart('/home/haoyu/data/VOCPart', train=False, requires=['img'], size=128)\n",
    "dataloader = torch.utils.data.DataLoader(dataset,\n",
    "                batch_size=32, pin_memory=True,\n",
    "                shuffle=False, num_workers=16)\n",
    "\n",
    "threshold_probability = 0.05  #  0.005\n",
    "num_large = int( threshold_probability * 4 *4 * len(dataset) )\n",
    "\n",
    "\n",
    "# class Largest(object):\n",
    "#     def __init__(self, size):\n",
    "#         self.largests = []\n",
    "#         self.size= size\n",
    "#     def add(self, x):\n",
    "#         if  len(self.largests)<self.size:\n",
    "#             self.largests.append(x)\n",
    "#             self.largests=sorted(self.largests)\n",
    "#         elif x > self.largests[0]:\n",
    "#             self.largests[0]=x\n",
    "#             self.largests=sorted(self.largests)\n",
    "#     def smallest(self):\n",
    "#         return self.largests[0]\n",
    "threshold = {}\n",
    "for method in ['LSG', 'naive']:\n",
    "    activations = np.zeros((num_channel, len(dataset)*16))\n",
    "\n",
    "    # largests = Largest(num_large)\n",
    "    # for x in range(1000):\n",
    "    #     largests.add(x)\n",
    "\n",
    "    # largsest = [Largest(num_large) for i in range(num_channel)]\n",
    "\n",
    "    for batch_id, (imgs, labels) in enumerate(dataloader):\n",
    "        \n",
    "        fmap = model[method](imgs)\n",
    "        bs, n_channel, _, _ =fmap.shape\n",
    "        fmap = fmap.view(bs, n_channel, -1)\n",
    "\n",
    "        activations_channels = torch.cat((*fmap, ), 1) # num_channel, batch_size * 16\n",
    "\n",
    "        activations[:, (batch_id*bs*16):((batch_id+1)*bs*16)] = activations_channels.detach().cpu().numpy()\n",
    "    \n",
    "        print(method,'img_num =', batch_id * bs, end='\\r')\n",
    "        # for channel, activations in enumerate(activations_channels):\n",
    "        #     # print('activations.shape',activations.shape)\n",
    "        #     for x in activations:\n",
    "        #         x = x.item()\n",
    "        #         # print(type(x),x)\n",
    "        #         largsest[channel].add(x)\n",
    "        #     # break\n",
    "        # # break\n",
    "    activations_sort = np.sort(activations, axis=1)\n",
    "    threshold[method] = activations_sort[:,-num_large]\n",
    "\n",
    "print()\n",
    "print(threshold['LSG'])\n",
    "print(threshold['naive'])\n",
    "# activations.size()"
   ]
  },
  {
   "cell_type": "code",
   "execution_count": 0,
   "metadata": {},
   "outputs": [],
   "source": [
    "dataset = VOCPart('/home/haoyu/data/VOCPart', train=False, requires=['img','obj_mask', 'part_mask'], size=128)\n",
    "dataloader = torch.utils.data.DataLoader(dataset,\n",
    "                batch_size=32, pin_memory=True,\n",
    "                shuffle=False, num_workers=16)"
   ]
  },
  {
   "cell_type": "code",
   "execution_count": 0,
   "metadata": {},
   "outputs": [],
   "source": [
    "num_class = 6\n",
    "# threshold = 1\n",
    "\n",
    "\n",
    "# num_class = 6\n",
    "# num_channel = 2048\n",
    "\n",
    "def dev_zero_replace(a,b):\n",
    "    return np.divide(a, b,\n",
    "             out=np.zeros_like(a/1.0),\n",
    "             where=(b!=0))\n",
    "\n",
    "\n",
    "def get_IoU(fmap, obj_mask, _threshold=None, top_rate=None):\n",
    "    # 皆是 torch.tensor(1,128,128)\n",
    "\n",
    "    # fmap = fmap[0]\n",
    "\n",
    "    # print('fmap', fmap.shape)\n",
    "    # plt.imshow(fmap, cmap='gray')\n",
    "    # plt.show()\n",
    "\n",
    "\n",
    "    fmap = torch.nn.functional.interpolate(fmap.view(1,1,4,4), 128, mode='bilinear', align_corners=False) [0]\n",
    "    # print('fmap', fmap.shape)\n",
    "\n",
    "    fmap = fmap[0]\n",
    "    obj_mask = obj_mask[0]    \n",
    "\n",
    "    # print('fmap', fmap.shape)\n",
    "    if top_rate!=None and _threshold==None:\n",
    "        top_num = int(torch.numel(fmap) * top_rate)\n",
    "        # print(top_num)\n",
    "        value,index=fmap.view([-1]).sort()\n",
    "        # print(value)\n",
    "        _threshold = value[-top_num]\n",
    "    # print('_threshold', _threshold)\n",
    "\n",
    "    # plt.imshow(fmap, cmap='gray')\n",
    "    # plt.show()\n",
    "\n",
    "    # plt.imshow(obj_mask, cmap='gray')\n",
    "    # plt.show()\n",
    "\n",
    "    # print('fmap max=',fmap.max(), 'min=',fmap.min())\n",
    "    # print('obj_mask max=',obj_mask.max(), 'min=',obj_mask.min())\n",
    "\n",
    "    # print('obj_mask.dtype=',obj_mask.dtype)\n",
    "    fmaask=(fmap >= _threshold).float()\n",
    "    # print('fmaask.dtype=',fmaask.dtype)\n",
    "\n",
    "    # print('fmaask max=',fmaask.max(), 'min=',fmaask.min())\n",
    "    # plt.imshow(fmaask, cmap='gray')\n",
    "    # plt.show()\n",
    "\n",
    "    union = torch.max(fmaask,obj_mask)\n",
    "    # plt.imshow(union, cmap='gray')\n",
    "    # plt.show()\n",
    "\n",
    "    intersect = torch.min(fmaask,obj_mask)\n",
    "    # plt.imshow(intersect, cmap='gray')\n",
    "    # plt.show()\n",
    "\n",
    "    _UoI = intersect.sum()/union.sum()\n",
    "    # print('IoU =', _UoI)\n",
    "\n",
    "    return _UoI.item()\n",
    "\n",
    "cam_top_rate = 0.3\n",
    "cam_UoI_threshold = 0.2\n",
    "\n",
    "UoI_threshold = 0.04"
   ]
  },
  {
   "cell_type": "code",
   "execution_count": 29,
   "metadata": {},
   "outputs": [
    {
     "ename": "NameError",
     "evalue": "name 'tqdm' is not defined",
     "output_type": "error",
     "traceback": [
      "\u001b[1;31m---------------------------------------------------------------------------\u001b[0m",
      "\u001b[1;31mNameError\u001b[0m                                 Traceback (most recent call last)",
      "\u001b[1;32m<ipython-input-29-67307c0b17f7>\u001b[0m in \u001b[0;36m<module>\u001b[1;34m\u001b[0m\n\u001b[0;32m      4\u001b[0m \u001b[1;33m\u001b[0m\u001b[0m\n\u001b[0;32m      5\u001b[0m \u001b[1;33m\u001b[0m\u001b[0m\n\u001b[1;32m----> 6\u001b[1;33m \u001b[0mpbar\u001b[0m \u001b[1;33m=\u001b[0m \u001b[0mtqdm\u001b[0m\u001b[1;33m(\u001b[0m\u001b[0mbar_format\u001b[0m\u001b[1;33m=\u001b[0m\u001b[1;34m'{desc}'\u001b[0m\u001b[1;33m,\u001b[0m\u001b[0mleave\u001b[0m\u001b[1;33m=\u001b[0m\u001b[1;32mTrue\u001b[0m\u001b[1;33m)\u001b[0m\u001b[1;33m\u001b[0m\u001b[1;33m\u001b[0m\u001b[0m\n\u001b[0m\u001b[0;32m      7\u001b[0m \u001b[1;33m\u001b[0m\u001b[0m\n\u001b[0;32m      8\u001b[0m \u001b[0msum_IoU\u001b[0m \u001b[1;33m=\u001b[0m \u001b[1;33m{\u001b[0m\u001b[1;34m'LSG'\u001b[0m\u001b[1;33m:\u001b[0m \u001b[0mnp\u001b[0m\u001b[1;33m.\u001b[0m\u001b[0mzeros\u001b[0m\u001b[1;33m(\u001b[0m\u001b[0mmask\u001b[0m\u001b[1;33m.\u001b[0m\u001b[0mshape\u001b[0m\u001b[1;33m)\u001b[0m\u001b[1;33m,\u001b[0m \u001b[1;34m'naive'\u001b[0m \u001b[1;33m:\u001b[0m  \u001b[0mnp\u001b[0m\u001b[1;33m.\u001b[0m\u001b[0mzeros\u001b[0m\u001b[1;33m(\u001b[0m\u001b[0mmask\u001b[0m\u001b[1;33m.\u001b[0m\u001b[0mshape\u001b[0m\u001b[1;33m)\u001b[0m\u001b[1;33m}\u001b[0m\u001b[1;33m\u001b[0m\u001b[1;33m\u001b[0m\u001b[0m\n",
      "\u001b[1;31mNameError\u001b[0m: name 'tqdm' is not defined"
     ]
    }
   ],
   "source": [
    "\n",
    "def take(x,coords):\n",
    "    # coords = np.array(每列是个坐标)\n",
    "    return np.take(x, np.ravel_multi_index(coords, x.shape))\n",
    "\n",
    "\n",
    "pbar = tqdm(bar_format='{desc}',leave=True)\n",
    "\n",
    "sum_IoU = {'LSG': np.zeros(mask.shape), 'naive' :  np.zeros(mask.shape)}\n",
    "sum_success = {'LSG': np.zeros(mask.shape), 'naive' :  np.zeros(mask.shape)}\n",
    "num = {'LSG': np.zeros(mask.shape), 'naive' :  np.zeros(mask.shape)}\n",
    "mean_IoU = {'LSG': 0.0, 'naive' : 0.0}\n",
    "mean_score_filter = {'LSG': 0.0, 'naive' : 0.0}\n",
    "\n",
    "sum_cam_IoU = {'LSG':  0.0 , 'naive' : 0.0 }\n",
    "sum_cam_related =  {'LSG':  0 , 'naive' : 0 }\n",
    "num_cam =  {'LSG':  0.0 , 'naive' : 0.0 }\n",
    "mean_cam_IoU = {'LSG':  0.0 , 'naive' : 0.0 }\n",
    "mean_cam_related = {'LSG':  0.0 , 'naive' : 0.0 }\n",
    "\n",
    "for img_id,(img, label, obj_mask, part_mask) in enumerate(dataset):\n",
    "    # print(label )\n",
    "    # print(*img.shape)\n",
    "    img = img.view(1,*img.shape).to(device)\n",
    "    for method in ['LSG', 'naive']:\n",
    "        feature_map = model[method](img)[0].detach().cpu()\n",
    "        # cam = feature_map *\n",
    "\n",
    "        # weight = model[method].module.fc.weight.detach().cpu() # [6, 2048]\n",
    "        # weight = weight[label]\n",
    "        # # print('weight', type(weight), weight.dtype, weight.shape) # <class 'torch.Tensor'> torch.float32 torch.Size([2048])\n",
    "        # # print('feature_map', type(feature_map), feature_map.dtype, feature_map.shape) # <class 'torch.Tensor'> torch.float32 torch.Size([2048, 4, 4])\n",
    "        # cam = ( feature_map * weight.view([-1,1,1]) ).sum(axis=0)\n",
    "        # # print('cam', cam.shape, cam.min(), cam.max()) # cam torch.Size([4, 4])\n",
    "\n",
    "        # cam_IoU = get_IoU(cam, obj_mask, top_rate=cam_top_rate)\n",
    "        # # print('cam_IoU =', cam_IoU)\n",
    "\n",
    "        # sum_cam_IoU[method] += cam_IoU\n",
    "        # sum_cam_related[method] += int(cam_IoU>cam_UoI_threshold)\n",
    "        # num_cam[method] += 1\n",
    "\n",
    "        # mean_cam_IoU[method] = sum_cam_IoU[method] / num_cam[method]\n",
    "        # mean_cam_related[method] = sum_cam_related[method] / num_cam[method]\n",
    "\n",
    "\n",
    "\n",
    "        # sys.exit(0)\n",
    "        for channel, fmap in enumerate(feature_map):\n",
    "\n",
    "            fmap = fmap\n",
    "            # print('feature_map', feature_map.shape)\n",
    "\n",
    "            IoU = get_IoU(fmap, obj_mask, threshold[method][channel])\n",
    "            # print('IoU =', IoU)\n",
    "\n",
    "            sum_IoU[method][channel, label] = IoU\n",
    "            sum_success[method][channel, label] += int(IoU>UoI_threshold)\n",
    "            num[method][channel, label] += 1\n",
    "\n",
    "\n",
    "        # mean_IoU_matrix = dev_zero_replace(sum_IoU[method], num[method])\n",
    "        # mean_IoU[method] = mean_IoU_matrix.max(axis=1).mean(axis=0)\n",
    "\n",
    "        mean_success = dev_zero_replace(sum_success[method], num[method])\n",
    "        score_filter = mean_success.max(axis=1)\n",
    "        mean_score_filter[method] = score_filter.mean(axis=0)\n",
    "\n",
    "\n",
    "\n",
    "        idx = mean_success.argmax(axis=1)\n",
    "        mean_IoU_matrix = dev_zero_replace(sum_IoU[method], num[method])\n",
    "        coords = np.array([range(mean_IoU_matrix.shape[0]),idx])\n",
    "        IoU_related_class = take(mean_IoU_matrix, coords)\n",
    "        mean_IoU[method] = IoU_related_class.mean(axis=0)\n",
    "\n",
    "    pbar.set_description_str( 'img_id %d -  LSG:naive ||  filter UoI %5f : %5f | acc %5f : %5f |'  % ( img_id,\n",
    "        mean_IoU['LSG'], mean_IoU['naive'] ,  mean_score_filter['LSG'], mean_score_filter['naive'] ) )\n",
    "    pbar.update()\n",
    "\n",
    "\n",
    "\n",
    "\n",
    "\n",
    "\n",
    "# meanIoU = sum/num\n",
    "\n"
   ]
  },
  {
   "cell_type": "code",
   "execution_count": 7,
   "metadata": {},
   "outputs": [
    {
     "name": "stderr",
     "output_type": "stream",
     "text": "\nimg_id 19 - cam  LSG:naive | mean 0.273590 : 0.238348 | num_related_iamges 0.700000 : 0.650000\nimg_num     19  mean_score_filter LSG : naive = 0.304492 : 0.186108mean_cam_IoU {'LSG': 0.26318525416510447, 'naive': 0.22699817695787974} mean_cam_related {'LSG': 0.6666666666666666, 'naive': 0.6190476190476191}\n"
    }
   ],
   "source": [
    "# pbar_cam.close()\n",
    "pbar.close()\n",
    "# print('mean_cam_IoU', mean_cam_IoU, 'mean_cam_related', mean_cam_related, end='\\r')\n"
   ]
  },
  {
   "cell_type": "code",
   "execution_count": 8,
   "metadata": {},
   "outputs": [
    {
     "ename": "TypeError",
     "evalue": "'builtin_function_or_method' object is not subscriptable",
     "output_type": "error",
     "traceback": [
      "\u001b[1;31m---------------------------------------------------------------------------\u001b[0m",
      "\u001b[1;31mTypeError\u001b[0m                                 Traceback (most recent call last)",
      "\u001b[1;32m<ipython-input-8-6d8569cd1be8>\u001b[0m in \u001b[0;36m<module>\u001b[1;34m\u001b[0m\n\u001b[0;32m      3\u001b[0m \u001b[1;33m\u001b[0m\u001b[0m\n\u001b[0;32m      4\u001b[0m \u001b[1;32mfor\u001b[0m \u001b[0mmethod\u001b[0m \u001b[1;32min\u001b[0m \u001b[1;33m[\u001b[0m\u001b[1;34m'LSG'\u001b[0m\u001b[1;33m,\u001b[0m \u001b[1;34m'naive'\u001b[0m\u001b[1;33m]\u001b[0m\u001b[1;33m:\u001b[0m\u001b[1;33m\u001b[0m\u001b[1;33m\u001b[0m\u001b[0m\n\u001b[1;32m----> 5\u001b[1;33m     \u001b[0mmeanIoU\u001b[0m \u001b[1;33m=\u001b[0m \u001b[0mdev_zero_replace\u001b[0m\u001b[1;33m(\u001b[0m\u001b[0msum\u001b[0m\u001b[1;33m[\u001b[0m\u001b[0mmethod\u001b[0m\u001b[1;33m]\u001b[0m\u001b[1;33m,\u001b[0m \u001b[0mnum\u001b[0m\u001b[1;33m[\u001b[0m\u001b[0mmethod\u001b[0m\u001b[1;33m]\u001b[0m\u001b[1;33m)\u001b[0m\u001b[1;33m\u001b[0m\u001b[1;33m\u001b[0m\u001b[0m\n\u001b[0m\u001b[0;32m      6\u001b[0m     \u001b[0mscore_filter\u001b[0m \u001b[1;33m=\u001b[0m \u001b[0mmeanIoU\u001b[0m\u001b[1;33m.\u001b[0m\u001b[0mmax\u001b[0m\u001b[1;33m(\u001b[0m\u001b[0maxis\u001b[0m\u001b[1;33m=\u001b[0m\u001b[1;36m1\u001b[0m\u001b[1;33m)\u001b[0m\u001b[1;33m\u001b[0m\u001b[1;33m\u001b[0m\u001b[0m\n\u001b[0;32m      7\u001b[0m     \u001b[0mfilter_related_class\u001b[0m \u001b[1;33m=\u001b[0m \u001b[0mmeanIoU\u001b[0m\u001b[1;33m.\u001b[0m\u001b[0margmax\u001b[0m\u001b[1;33m(\u001b[0m\u001b[0maxis\u001b[0m\u001b[1;33m=\u001b[0m\u001b[1;36m1\u001b[0m\u001b[1;33m)\u001b[0m\u001b[1;33m\u001b[0m\u001b[1;33m\u001b[0m\u001b[0m\n",
      "\u001b[1;31mTypeError\u001b[0m: 'builtin_function_or_method' object is not subscriptable"
     ]
    }
   ],
   "source": [
    "related_filter_num = {}\n",
    "related_filter_mean_score = {}\n",
    "\n",
    "for method in ['LSG', 'naive']:\n",
    "    meanIoU = dev_zero_replace(sum[method], num[method])\n",
    "    score_filter = meanIoU.max(axis=1)\n",
    "    filter_related_class = meanIoU.argmax(axis=1)\n",
    "    related_filter_num[method]=np.zeros(num_class)\n",
    "    related_filter_mean_score[method]=np.zeros([num_class])\n",
    "    for cid, class_name in enumerate(dataset.classes):\n",
    "        score_related_to_class = score_filter[filter_related_class==cid]\n",
    "        related_filter_num[method][cid] = len(score_related_to_class)\n",
    "        related_filter_mean_score[method][cid] = score_related_to_class.mean() \n",
    "\n",
    "print(*dataset.classes, sep=',')\n",
    "for method in ['LSG', 'naive']:\n",
    "    print(method)\n",
    "    print('related_filter_num',*related_filter_num[method], sep=',')\n",
    "    print('related_filter_mean_score',*related_filter_mean_score[method], sep=',')\n",
    "    print('average_score', (related_filter_num[method]*related_filter_mean_score[method]).sum() / related_filter_num[method].sum() , sep=',')"
   ]
  },
  {
   "cell_type": "code",
   "execution_count": 11,
   "metadata": {},
   "outputs": [
    {
     "name": "stderr",
     "output_type": "stream",
     "text": "\n\n\n\u001b[A\u001b[A\u001b[A\n\n\nLSG 0.223812 0.000000 0.000000 0.000000 0.000000 0.000000  | naive 0.116618 0.000000 0.000000 0.000000 0.000000 0.000000  |\u001b[A\u001b[A\u001b[A\n\n\nLSG 0.223812 0.000000 0.000000 0.000000 0.000000 0.000000  | naive 0.116618 0.000000 0.000000 0.000000 0.000000 0.000000  |\u001b[A\u001b[A\u001b[A\n\n\nLSG 0.223812 0.000000 0.000000 0.000000 0.000000 0.130909  | naive 0.116618 0.000000 0.000000 0.000000 0.000000 0.325658  |\u001b[A\u001b[A\u001b[A\n\n\nLSG 0.223812 0.000000 0.000000 0.000000 0.000000 0.130909  | naive 0.116618 0.000000 0.000000 0.000000 0.000000 0.325658  |\u001b[A\u001b[A\u001b[A\n\n\nLSG 0.260239 0.000000 0.000000 0.000000 0.000000 0.130909  | naive 0.201195 0.000000 0.000000 0.000000 0.000000 0.325658  |\u001b[A\u001b[A\u001b[A\n\n\nLSG 0.260239 0.000000 0.000000 0.000000 0.000000 0.130909  | naive 0.201195 0.000000 0.000000 0.000000 0.000000 0.325658  |\u001b[A\u001b[A\u001b[A\n\n\nLSG 0.260239 0.000000 0.387680 0.000000 0.000000 0.130909  | naive 0.201195 0.000000 0.242177 0.000000 0.000000 0.325658  |\u001b[A\u001b[A\u001b[A\n\n\nLSG 0.260239 0.000000 0.387680 0.000000 0.000000 0.130909  | naive 0.201195 0.000000 0.242177 0.000000 0.000000 0.325658  |\u001b[A\u001b[A\u001b[A\n\n\nLSG 0.277610 0.000000 0.387680 0.000000 0.000000 0.130909  | naive 0.238807 0.000000 0.242177 0.000000 0.000000 0.325658  |\u001b[A\u001b[A\u001b[A\n\n\nLSG 0.277610 0.000000 0.387680 0.000000 0.000000 0.130909  | naive 0.238807 0.000000 0.242177 0.000000 0.000000 0.325658  |\u001b[A\u001b[A\u001b[A\n\n\nLSG 0.277610 0.000000 0.387680 0.000000 0.000000 0.184308  | naive 0.238807 0.000000 0.242177 0.000000 0.000000 0.345502  |\u001b[A\u001b[A\u001b[A\n\n\nLSG 0.277610 0.000000 0.387680 0.000000 0.000000 0.184308  | naive 0.238807 0.000000 0.242177 0.000000 0.000000 0.345502  |\u001b[A\u001b[A\u001b[A\n\n\nLSG 0.277610 0.000000 0.387680 0.000000 0.000000 0.187606  | naive 0.238807 0.000000 0.242177 0.000000 0.000000 0.315796  |\u001b[A\u001b[A\u001b[A\n\n\nLSG 0.277610 0.000000 0.387680 0.000000 0.000000 0.187606  | naive 0.238807 0.000000 0.242177 0.000000 0.000000 0.315796  |\u001b[A\u001b[A\u001b[A\n\n\nLSG 0.277610 0.000000 0.387680 0.476782 0.000000 0.187606  | naive 0.238807 0.000000 0.242177 0.201932 0.000000 0.315796  |\u001b[A\u001b[A\u001b[A\n\n\nLSG 0.277610 0.000000 0.387680 0.476782 0.000000 0.187606  | naive 0.238807 0.000000 0.242177 0.201932 0.000000 0.315796  |\u001b[A\u001b[A\u001b[A\n\n\nLSG 0.277610 0.000000 0.387680 0.476782 0.000000 0.239655  | naive 0.238807 0.000000 0.242177 0.201932 0.000000 0.362293  |\u001b[A\u001b[A\u001b[A\n\n\nLSG 0.277610 0.000000 0.387680 0.476782 0.000000 0.239655  | naive 0.238807 0.000000 0.242177 0.201932 0.000000 0.362293  |\u001b[A\u001b[A\u001b[A\n\n\nLSG 0.277610 0.000000 0.387680 0.476782 0.137041 0.239655  | naive 0.238807 0.000000 0.242177 0.201932 0.091692 0.362293  |\u001b[A\u001b[A\u001b[A\n\n\nLSG 0.277610 0.000000 0.387680 0.476782 0.137041 0.239655  | naive 0.238807 0.000000 0.242177 0.201932 0.091692 0.362293  |\u001b[A\u001b[A\u001b[A\n\n\nLSG 0.277610 0.294798 0.387680 0.476782 0.137041 0.239655  | naive 0.238807 0.248336 0.242177 0.201932 0.091692 0.362293  |\u001b[A\u001b[A\u001b[A\n\n\nLSG 0.277610 0.294798 0.387680 0.476782 0.137041 0.239655  | naive 0.238807 0.248336 0.242177 0.201932 0.091692 0.362293  |\u001b[A\u001b[A\u001b[A\n\n\nLSG 0.277610 0.294798 0.303585 0.476782 0.137041 0.239655  | naive 0.238807 0.248336 0.212420 0.201932 0.091692 0.362293  |\u001b[A\u001b[A\u001b[A\n\n\nLSG 0.277610 0.294798 0.303585 0.476782 0.137041 0.239655  | naive 0.238807 0.248336 0.212420 0.201932 0.091692 0.362293  |\u001b[A\u001b[A\u001b[A\n\n\nLSG 0.277610 0.294798 0.303585 0.343026 0.137041 0.239655  | naive 0.238807 0.248336 0.212420 0.137209 0.091692 0.362293  |\u001b[A\u001b[A\u001b[A\n\n\nLSG 0.277610 0.294798 0.303585 0.343026 0.137041 0.239655  | naive 0.238807 0.248336 0.212420 0.137209 0.091692 0.362293  |\u001b[A\u001b[A\u001b[A\n\n\nLSG 0.236533 0.294798 0.303585 0.343026 0.137041 0.239655  | naive 0.201895 0.248336 0.212420 0.137209 0.091692 0.362293  |\u001b[A\u001b[A\u001b[A\n\n\nLSG 0.236533 0.294798 0.303585 0.343026 0.137041 0.239655  | naive 0.201895 0.248336 0.212420 0.137209 0.091692 0.362293  |\u001b[A\u001b[A\u001b[A\n\n\nLSG 0.257032 0.294798 0.303585 0.343026 0.137041 0.239655  | naive 0.212059 0.248336 0.212420 0.137209 0.091692 0.362293  |\u001b[A\u001b[A\u001b[A\n\n\nLSG 0.257032 0.294798 0.303585 0.343026 0.137041 0.239655  | naive 0.212059 0.248336 0.212420 0.137209 0.091692 0.362293  |\u001b[A\u001b[A\u001b[A\n\n\nLSG 0.257032 0.294798 0.341406 0.343026 0.137041 0.239655  | naive 0.212059 0.248336 0.169561 0.137209 0.091692 0.362293  |\u001b[A\u001b[A\u001b[A\n\n\nLSG 0.257032 0.294798 0.341406 0.343026 0.137041 0.239655  | naive 0.212059 0.248336 0.169561 0.137209 0.091692 0.362293  |\u001b[A\u001b[A\u001b[A\n\n\nLSG 0.257032 0.294798 0.283078 0.343026 0.137041 0.239655  | naive 0.212059 0.248336 0.147076 0.137209 0.091692 0.362293  |\u001b[A\u001b[A\u001b[A\n\n\nLSG 0.257032 0.294798 0.283078 0.343026 0.137041 0.239655  | naive 0.212059 0.248336 0.147076 0.137209 0.091692 0.362293  |\u001b[A\u001b[A\u001b[A\n\n\nLSG 0.244387 0.294798 0.283078 0.343026 0.137041 0.239655  | naive 0.234579 0.248336 0.147076 0.137209 0.091692 0.362293  |\u001b[A\u001b[A\u001b[A\n\n\nLSG 0.244387 0.294798 0.283078 0.343026 0.137041 0.239655  | naive 0.234579 0.248336 0.147076 0.137209 0.091692 0.362293  |\u001b[A\u001b[A\u001b[A\n\n\nLSG 0.244387 0.294798 0.326934 0.343026 0.137041 0.239655  | naive 0.234579 0.248336 0.215066 0.137209 0.091692 0.362293  |\u001b[A\u001b[A\u001b[A\n\n\nLSG 0.244387 0.294798 0.326934 0.343026 0.137041 0.239655  | naive 0.234579 0.248336 0.215066 0.137209 0.091692 0.362293  |\u001b[A\u001b[A\u001b[A\n\n\nLSG 0.244387 0.294541 0.326934 0.343026 0.137041 0.239655  | naive 0.234579 0.234436 0.215066 0.137209 0.091692 0.362293  |\u001b[A\u001b[A\u001b[A\n\n\nLSG 0.244387 0.294541 0.326934 0.343026 0.137041 0.239655  | naive 0.234579 0.234436 0.215066 0.137209 0.091692 0.362293  |\u001b[A\u001b[A\u001b[A\n\n\nLSG 0.244387 0.214727 0.326934 0.343026 0.137041 0.239655  | naive 0.234579 0.156291 0.215066 0.137209 0.091692 0.362293  |\u001b[A\u001b[A\u001b[A\n\n\nLSG 0.244387 0.214727 0.326934 0.343026 0.137041 0.239655  | naive 0.234579 0.156291 0.215066 0.137209 0.091692 0.362293  |\u001b[A\u001b[A\u001b[A\n\n\nLSG 0.244387 0.214727 0.326934 0.343026 0.137041 0.245455  | naive 0.234579 0.156291 0.215066 0.137209 0.091692 0.324974  |\u001b[A\u001b[A\u001b[A\n\n\nLSG 0.244387 0.214727 0.326934 0.343026 0.137041 0.245455  | naive 0.234579 0.156291 0.215066 0.137209 0.091692 0.324974  |\u001b[A\u001b[A\u001b[A\n\n\nLSG 0.244387 0.214727 0.326934 0.343026 0.266827 0.245455  | naive 0.234579 0.156291 0.215066 0.137209 0.241112 0.324974  |\u001b[A\u001b[A\u001b[A\n\n\nLSG 0.244387 0.214727 0.326934 0.343026 0.266827 0.245455  | naive 0.234579 0.156291 0.215066 0.137209 0.241112 0.324974  |\u001b[A\u001b[A\u001b[A\n\n\nLSG 0.244387 0.214727 0.326934 0.265682 0.266827 0.245455  | naive 0.234579 0.156291 0.215066 0.158561 0.241112 0.324974  |\u001b[A\u001b[A\u001b[A\n\n\nLSG 0.244387 0.214727 0.326934 0.265682 0.266827 0.245455  | naive 0.234579 0.156291 0.215066 0.158561 0.241112 0.324974  |\u001b[A\u001b[A\u001b[A\n\n\nLSG 0.244387 0.214727 0.326934 0.265682 0.225826 0.245455  | naive 0.234579 0.156291 0.215066 0.158561 0.250175 0.324974  |\u001b[A\u001b[A\u001b[A\n\n\nLSG 0.244387 0.214727 0.326934 0.265682 0.225826 0.245455  | naive 0.234579 0.156291 0.215066 0.158561 0.250175 0.324974  |\u001b[A\u001b[A\u001b[A\n\n\nLSG 0.244387 0.214727 0.326934 0.232263 0.225826 0.245455  | naive 0.234579 0.156291 0.215066 0.162149 0.250175 0.324974  |\u001b[A\u001b[A\u001b[A\n\n\nLSG 0.244387 0.214727 0.326934 0.232263 0.225826 0.245455  | naive 0.234579 0.156291 0.215066 0.162149 0.250175 0.324974  |\u001b[A\u001b[A\u001b[A\n\n\nLSG 0.244387 0.214727 0.339938 0.232263 0.225826 0.245455  | naive 0.234579 0.156291 0.215140 0.162149 0.250175 0.324974  |\u001b[A\u001b[A\u001b[A\n\n\nLSG 0.244387 0.214727 0.339938 0.232263 0.225826 0.245455  | naive 0.234579 0.156291 0.215140 0.162149 0.250175 0.324974  |\u001b[A\u001b[A\u001b[A\n\n\nLSG 0.244387 0.214727 0.339938 0.212786 0.225826 0.245455  | naive 0.234579 0.156291 0.215140 0.166425 0.250175 0.324974  |\u001b[A\u001b[A\u001b[A\n\n\nLSG 0.244387 0.214727 0.339938 0.212786 0.225826 0.245455  | naive 0.234579 0.156291 0.215140 0.166425 0.250175 0.324974  |\u001b[A\u001b[A\u001b[A\n\n\nLSG 0.238687 0.214727 0.339938 0.212786 0.225826 0.245455  | naive 0.234578 0.156291 0.215140 0.166425 0.250175 0.324974  |\u001b[A\u001b[A\u001b[A\n\n\nLSG 0.238687 0.214727 0.339938 0.212786 0.225826 0.245455  | naive 0.234578 0.156291 0.215140 0.166425 0.250175 0.324974  |\u001b[A\u001b[A\u001b[A\n\n\nLSG 0.249201 0.214727 0.339938 0.212786 0.225826 0.245455  | naive 0.270234 0.156291 0.215140 0.166425 0.250175 0.324974  |\u001b[A\u001b[A\u001b[A\n\n\nLSG 0.249201 0.214727 0.339938 0.212786 0.225826 0.245455  | naive 0.270234 0.156291 0.215140 0.166425 0.250175 0.324974  |\u001b[A\u001b[A\u001b[A\n\n\nLSG 0.249201 0.214727 0.345180 0.212786 0.225826 0.245455  | naive 0.270234 0.156291 0.230785 0.166425 0.250175 0.324974  |\u001b[A\u001b[A\u001b[A\n\n\nLSG 0.249201 0.214727 0.345180 0.212786 0.225826 0.245455  | naive 0.270234 0.156291 0.230785 0.166425 0.250175 0.324974  |\u001b[A\u001b[A\u001b[A\n\n\nLSG 0.249201 0.214727 0.345180 0.212786 0.179408 0.245455  | naive 0.270234 0.156291 0.230785 0.166425 0.227765 0.324974  |\u001b[A\u001b[A\u001b[A\n\n\nLSG 0.249201 0.214727 0.345180 0.212786 0.179408 0.245455  | naive 0.270234 0.156291 0.230785 0.166425 0.227765 0.324974  |\u001b[A\u001b[A\u001b[A"
    },
    {
     "ename": "KeyboardInterrupt",
     "evalue": "",
     "output_type": "error",
     "traceback": [
      "\u001b[1;31m---------------------------------------------------------------------------\u001b[0m",
      "\u001b[1;31mKeyboardInterrupt\u001b[0m                         Traceback (most recent call last)",
      "\u001b[1;32m<ipython-input-11-269273b160fa>\u001b[0m in \u001b[0;36m<module>\u001b[1;34m\u001b[0m\n\u001b[0;32m     16\u001b[0m     \u001b[0mimg\u001b[0m \u001b[1;33m=\u001b[0m \u001b[0mimg\u001b[0m\u001b[1;33m.\u001b[0m\u001b[0mview\u001b[0m\u001b[1;33m(\u001b[0m\u001b[1;36m1\u001b[0m\u001b[1;33m,\u001b[0m\u001b[1;33m*\u001b[0m\u001b[0mimg\u001b[0m\u001b[1;33m.\u001b[0m\u001b[0mshape\u001b[0m\u001b[1;33m)\u001b[0m\u001b[1;33m.\u001b[0m\u001b[0mto\u001b[0m\u001b[1;33m(\u001b[0m\u001b[0mdevice\u001b[0m\u001b[1;33m)\u001b[0m\u001b[1;33m\u001b[0m\u001b[1;33m\u001b[0m\u001b[0m\n\u001b[0;32m     17\u001b[0m     \u001b[1;32mfor\u001b[0m \u001b[0mmethod\u001b[0m \u001b[1;32min\u001b[0m \u001b[1;33m[\u001b[0m\u001b[1;34m'LSG'\u001b[0m\u001b[1;33m,\u001b[0m \u001b[1;34m'naive'\u001b[0m\u001b[1;33m]\u001b[0m\u001b[1;33m:\u001b[0m\u001b[1;33m\u001b[0m\u001b[1;33m\u001b[0m\u001b[0m\n\u001b[1;32m---> 18\u001b[1;33m         \u001b[0mfeature_map\u001b[0m \u001b[1;33m=\u001b[0m \u001b[0mmodel\u001b[0m\u001b[1;33m[\u001b[0m\u001b[0mmethod\u001b[0m\u001b[1;33m]\u001b[0m\u001b[1;33m(\u001b[0m\u001b[0mimg\u001b[0m\u001b[1;33m)\u001b[0m\u001b[1;33m[\u001b[0m\u001b[1;36m0\u001b[0m\u001b[1;33m]\u001b[0m\u001b[1;33m.\u001b[0m\u001b[0mdetach\u001b[0m\u001b[1;33m(\u001b[0m\u001b[1;33m)\u001b[0m\u001b[1;33m.\u001b[0m\u001b[0mcpu\u001b[0m\u001b[1;33m(\u001b[0m\u001b[1;33m)\u001b[0m\u001b[1;33m\u001b[0m\u001b[1;33m\u001b[0m\u001b[0m\n\u001b[0m\u001b[0;32m     19\u001b[0m         \u001b[1;31m# cam = feature_map *\u001b[0m\u001b[1;33m\u001b[0m\u001b[1;33m\u001b[0m\u001b[1;33m\u001b[0m\u001b[0m\n\u001b[0;32m     20\u001b[0m \u001b[1;33m\u001b[0m\u001b[0m\n",
      "\u001b[1;32m/home/haoyu/ENV/localENV/anaconda3/lib/python3.7/site-packages/torch/nn/modules/module.py\u001b[0m in \u001b[0;36m__call__\u001b[1;34m(self, *input, **kwargs)\u001b[0m\n\u001b[0;32m    539\u001b[0m             \u001b[0mresult\u001b[0m \u001b[1;33m=\u001b[0m \u001b[0mself\u001b[0m\u001b[1;33m.\u001b[0m\u001b[0m_slow_forward\u001b[0m\u001b[1;33m(\u001b[0m\u001b[1;33m*\u001b[0m\u001b[0minput\u001b[0m\u001b[1;33m,\u001b[0m \u001b[1;33m**\u001b[0m\u001b[0mkwargs\u001b[0m\u001b[1;33m)\u001b[0m\u001b[1;33m\u001b[0m\u001b[1;33m\u001b[0m\u001b[0m\n\u001b[0;32m    540\u001b[0m         \u001b[1;32melse\u001b[0m\u001b[1;33m:\u001b[0m\u001b[1;33m\u001b[0m\u001b[1;33m\u001b[0m\u001b[0m\n\u001b[1;32m--> 541\u001b[1;33m             \u001b[0mresult\u001b[0m \u001b[1;33m=\u001b[0m \u001b[0mself\u001b[0m\u001b[1;33m.\u001b[0m\u001b[0mforward\u001b[0m\u001b[1;33m(\u001b[0m\u001b[1;33m*\u001b[0m\u001b[0minput\u001b[0m\u001b[1;33m,\u001b[0m \u001b[1;33m**\u001b[0m\u001b[0mkwargs\u001b[0m\u001b[1;33m)\u001b[0m\u001b[1;33m\u001b[0m\u001b[1;33m\u001b[0m\u001b[0m\n\u001b[0m\u001b[0;32m    542\u001b[0m         \u001b[1;32mfor\u001b[0m \u001b[0mhook\u001b[0m \u001b[1;32min\u001b[0m \u001b[0mself\u001b[0m\u001b[1;33m.\u001b[0m\u001b[0m_forward_hooks\u001b[0m\u001b[1;33m.\u001b[0m\u001b[0mvalues\u001b[0m\u001b[1;33m(\u001b[0m\u001b[1;33m)\u001b[0m\u001b[1;33m:\u001b[0m\u001b[1;33m\u001b[0m\u001b[1;33m\u001b[0m\u001b[0m\n\u001b[0;32m    543\u001b[0m             \u001b[0mhook_result\u001b[0m \u001b[1;33m=\u001b[0m \u001b[0mhook\u001b[0m\u001b[1;33m(\u001b[0m\u001b[0mself\u001b[0m\u001b[1;33m,\u001b[0m \u001b[0minput\u001b[0m\u001b[1;33m,\u001b[0m \u001b[0mresult\u001b[0m\u001b[1;33m)\u001b[0m\u001b[1;33m\u001b[0m\u001b[1;33m\u001b[0m\u001b[0m\n",
      "\u001b[1;32m/home/haoyu/ENV/localENV/anaconda3/lib/python3.7/site-packages/torch/nn/parallel/data_parallel.py\u001b[0m in \u001b[0;36mforward\u001b[1;34m(self, *inputs, **kwargs)\u001b[0m\n\u001b[0;32m    148\u001b[0m         \u001b[0minputs\u001b[0m\u001b[1;33m,\u001b[0m \u001b[0mkwargs\u001b[0m \u001b[1;33m=\u001b[0m \u001b[0mself\u001b[0m\u001b[1;33m.\u001b[0m\u001b[0mscatter\u001b[0m\u001b[1;33m(\u001b[0m\u001b[0minputs\u001b[0m\u001b[1;33m,\u001b[0m \u001b[0mkwargs\u001b[0m\u001b[1;33m,\u001b[0m \u001b[0mself\u001b[0m\u001b[1;33m.\u001b[0m\u001b[0mdevice_ids\u001b[0m\u001b[1;33m)\u001b[0m\u001b[1;33m\u001b[0m\u001b[1;33m\u001b[0m\u001b[0m\n\u001b[0;32m    149\u001b[0m         \u001b[1;32mif\u001b[0m \u001b[0mlen\u001b[0m\u001b[1;33m(\u001b[0m\u001b[0mself\u001b[0m\u001b[1;33m.\u001b[0m\u001b[0mdevice_ids\u001b[0m\u001b[1;33m)\u001b[0m \u001b[1;33m==\u001b[0m \u001b[1;36m1\u001b[0m\u001b[1;33m:\u001b[0m\u001b[1;33m\u001b[0m\u001b[1;33m\u001b[0m\u001b[0m\n\u001b[1;32m--> 150\u001b[1;33m             \u001b[1;32mreturn\u001b[0m \u001b[0mself\u001b[0m\u001b[1;33m.\u001b[0m\u001b[0mmodule\u001b[0m\u001b[1;33m(\u001b[0m\u001b[1;33m*\u001b[0m\u001b[0minputs\u001b[0m\u001b[1;33m[\u001b[0m\u001b[1;36m0\u001b[0m\u001b[1;33m]\u001b[0m\u001b[1;33m,\u001b[0m \u001b[1;33m**\u001b[0m\u001b[0mkwargs\u001b[0m\u001b[1;33m[\u001b[0m\u001b[1;36m0\u001b[0m\u001b[1;33m]\u001b[0m\u001b[1;33m)\u001b[0m\u001b[1;33m\u001b[0m\u001b[1;33m\u001b[0m\u001b[0m\n\u001b[0m\u001b[0;32m    151\u001b[0m         \u001b[0mreplicas\u001b[0m \u001b[1;33m=\u001b[0m \u001b[0mself\u001b[0m\u001b[1;33m.\u001b[0m\u001b[0mreplicate\u001b[0m\u001b[1;33m(\u001b[0m\u001b[0mself\u001b[0m\u001b[1;33m.\u001b[0m\u001b[0mmodule\u001b[0m\u001b[1;33m,\u001b[0m \u001b[0mself\u001b[0m\u001b[1;33m.\u001b[0m\u001b[0mdevice_ids\u001b[0m\u001b[1;33m[\u001b[0m\u001b[1;33m:\u001b[0m\u001b[0mlen\u001b[0m\u001b[1;33m(\u001b[0m\u001b[0minputs\u001b[0m\u001b[1;33m)\u001b[0m\u001b[1;33m]\u001b[0m\u001b[1;33m)\u001b[0m\u001b[1;33m\u001b[0m\u001b[1;33m\u001b[0m\u001b[0m\n\u001b[0;32m    152\u001b[0m         \u001b[0moutputs\u001b[0m \u001b[1;33m=\u001b[0m \u001b[0mself\u001b[0m\u001b[1;33m.\u001b[0m\u001b[0mparallel_apply\u001b[0m\u001b[1;33m(\u001b[0m\u001b[0mreplicas\u001b[0m\u001b[1;33m,\u001b[0m \u001b[0minputs\u001b[0m\u001b[1;33m,\u001b[0m \u001b[0mkwargs\u001b[0m\u001b[1;33m)\u001b[0m\u001b[1;33m\u001b[0m\u001b[1;33m\u001b[0m\u001b[0m\n",
      "\u001b[1;32m/home/haoyu/ENV/localENV/anaconda3/lib/python3.7/site-packages/torch/nn/modules/module.py\u001b[0m in \u001b[0;36m__call__\u001b[1;34m(self, *input, **kwargs)\u001b[0m\n\u001b[0;32m    539\u001b[0m             \u001b[0mresult\u001b[0m \u001b[1;33m=\u001b[0m \u001b[0mself\u001b[0m\u001b[1;33m.\u001b[0m\u001b[0m_slow_forward\u001b[0m\u001b[1;33m(\u001b[0m\u001b[1;33m*\u001b[0m\u001b[0minput\u001b[0m\u001b[1;33m,\u001b[0m \u001b[1;33m**\u001b[0m\u001b[0mkwargs\u001b[0m\u001b[1;33m)\u001b[0m\u001b[1;33m\u001b[0m\u001b[1;33m\u001b[0m\u001b[0m\n\u001b[0;32m    540\u001b[0m         \u001b[1;32melse\u001b[0m\u001b[1;33m:\u001b[0m\u001b[1;33m\u001b[0m\u001b[1;33m\u001b[0m\u001b[0m\n\u001b[1;32m--> 541\u001b[1;33m             \u001b[0mresult\u001b[0m \u001b[1;33m=\u001b[0m \u001b[0mself\u001b[0m\u001b[1;33m.\u001b[0m\u001b[0mforward\u001b[0m\u001b[1;33m(\u001b[0m\u001b[1;33m*\u001b[0m\u001b[0minput\u001b[0m\u001b[1;33m,\u001b[0m \u001b[1;33m**\u001b[0m\u001b[0mkwargs\u001b[0m\u001b[1;33m)\u001b[0m\u001b[1;33m\u001b[0m\u001b[1;33m\u001b[0m\u001b[0m\n\u001b[0m\u001b[0;32m    542\u001b[0m         \u001b[1;32mfor\u001b[0m \u001b[0mhook\u001b[0m \u001b[1;32min\u001b[0m \u001b[0mself\u001b[0m\u001b[1;33m.\u001b[0m\u001b[0m_forward_hooks\u001b[0m\u001b[1;33m.\u001b[0m\u001b[0mvalues\u001b[0m\u001b[1;33m(\u001b[0m\u001b[1;33m)\u001b[0m\u001b[1;33m:\u001b[0m\u001b[1;33m\u001b[0m\u001b[1;33m\u001b[0m\u001b[0m\n\u001b[0;32m    543\u001b[0m             \u001b[0mhook_result\u001b[0m \u001b[1;33m=\u001b[0m \u001b[0mhook\u001b[0m\u001b[1;33m(\u001b[0m\u001b[0mself\u001b[0m\u001b[1;33m,\u001b[0m \u001b[0minput\u001b[0m\u001b[1;33m,\u001b[0m \u001b[0mresult\u001b[0m\u001b[1;33m)\u001b[0m\u001b[1;33m\u001b[0m\u001b[1;33m\u001b[0m\u001b[0m\n",
      "\u001b[1;32m/mfs/haoyu/project/CDCNN/ICNN/Official_Model_For_Paper/ModelTraining/TwoStep_Algorithm1_Clip/resnet_std.py\u001b[0m in \u001b[0;36mget_feature_map\u001b[1;34m(self, x)\u001b[0m\n\u001b[0;32m    255\u001b[0m         \u001b[0mx\u001b[0m \u001b[1;33m=\u001b[0m \u001b[0mself\u001b[0m\u001b[1;33m.\u001b[0m\u001b[0mlayer2\u001b[0m\u001b[1;33m(\u001b[0m\u001b[0mx\u001b[0m\u001b[1;33m)\u001b[0m\u001b[1;33m\u001b[0m\u001b[1;33m\u001b[0m\u001b[0m\n\u001b[0;32m    256\u001b[0m         \u001b[0mx\u001b[0m \u001b[1;33m=\u001b[0m \u001b[0mself\u001b[0m\u001b[1;33m.\u001b[0m\u001b[0mlayer3\u001b[0m\u001b[1;33m(\u001b[0m\u001b[0mx\u001b[0m\u001b[1;33m)\u001b[0m\u001b[1;33m\u001b[0m\u001b[1;33m\u001b[0m\u001b[0m\n\u001b[1;32m--> 257\u001b[1;33m         \u001b[0mx\u001b[0m \u001b[1;33m=\u001b[0m \u001b[0mself\u001b[0m\u001b[1;33m.\u001b[0m\u001b[0mlayer4\u001b[0m\u001b[1;33m(\u001b[0m\u001b[0mx\u001b[0m\u001b[1;33m)\u001b[0m\u001b[1;33m\u001b[0m\u001b[1;33m\u001b[0m\u001b[0m\n\u001b[0m\u001b[0;32m    258\u001b[0m \u001b[1;33m\u001b[0m\u001b[0m\n\u001b[0;32m    259\u001b[0m         \u001b[1;32mreturn\u001b[0m \u001b[0mx\u001b[0m\u001b[1;33m\u001b[0m\u001b[1;33m\u001b[0m\u001b[0m\n",
      "\u001b[1;32m/home/haoyu/ENV/localENV/anaconda3/lib/python3.7/site-packages/torch/nn/modules/module.py\u001b[0m in \u001b[0;36m__call__\u001b[1;34m(self, *input, **kwargs)\u001b[0m\n\u001b[0;32m    539\u001b[0m             \u001b[0mresult\u001b[0m \u001b[1;33m=\u001b[0m \u001b[0mself\u001b[0m\u001b[1;33m.\u001b[0m\u001b[0m_slow_forward\u001b[0m\u001b[1;33m(\u001b[0m\u001b[1;33m*\u001b[0m\u001b[0minput\u001b[0m\u001b[1;33m,\u001b[0m \u001b[1;33m**\u001b[0m\u001b[0mkwargs\u001b[0m\u001b[1;33m)\u001b[0m\u001b[1;33m\u001b[0m\u001b[1;33m\u001b[0m\u001b[0m\n\u001b[0;32m    540\u001b[0m         \u001b[1;32melse\u001b[0m\u001b[1;33m:\u001b[0m\u001b[1;33m\u001b[0m\u001b[1;33m\u001b[0m\u001b[0m\n\u001b[1;32m--> 541\u001b[1;33m             \u001b[0mresult\u001b[0m \u001b[1;33m=\u001b[0m \u001b[0mself\u001b[0m\u001b[1;33m.\u001b[0m\u001b[0mforward\u001b[0m\u001b[1;33m(\u001b[0m\u001b[1;33m*\u001b[0m\u001b[0minput\u001b[0m\u001b[1;33m,\u001b[0m \u001b[1;33m**\u001b[0m\u001b[0mkwargs\u001b[0m\u001b[1;33m)\u001b[0m\u001b[1;33m\u001b[0m\u001b[1;33m\u001b[0m\u001b[0m\n\u001b[0m\u001b[0;32m    542\u001b[0m         \u001b[1;32mfor\u001b[0m \u001b[0mhook\u001b[0m \u001b[1;32min\u001b[0m \u001b[0mself\u001b[0m\u001b[1;33m.\u001b[0m\u001b[0m_forward_hooks\u001b[0m\u001b[1;33m.\u001b[0m\u001b[0mvalues\u001b[0m\u001b[1;33m(\u001b[0m\u001b[1;33m)\u001b[0m\u001b[1;33m:\u001b[0m\u001b[1;33m\u001b[0m\u001b[1;33m\u001b[0m\u001b[0m\n\u001b[0;32m    543\u001b[0m             \u001b[0mhook_result\u001b[0m \u001b[1;33m=\u001b[0m \u001b[0mhook\u001b[0m\u001b[1;33m(\u001b[0m\u001b[0mself\u001b[0m\u001b[1;33m,\u001b[0m \u001b[0minput\u001b[0m\u001b[1;33m,\u001b[0m \u001b[0mresult\u001b[0m\u001b[1;33m)\u001b[0m\u001b[1;33m\u001b[0m\u001b[1;33m\u001b[0m\u001b[0m\n",
      "\u001b[1;32m/home/haoyu/ENV/localENV/anaconda3/lib/python3.7/site-packages/torch/nn/modules/container.py\u001b[0m in \u001b[0;36mforward\u001b[1;34m(self, input)\u001b[0m\n\u001b[0;32m     90\u001b[0m     \u001b[1;32mdef\u001b[0m \u001b[0mforward\u001b[0m\u001b[1;33m(\u001b[0m\u001b[0mself\u001b[0m\u001b[1;33m,\u001b[0m \u001b[0minput\u001b[0m\u001b[1;33m)\u001b[0m\u001b[1;33m:\u001b[0m\u001b[1;33m\u001b[0m\u001b[1;33m\u001b[0m\u001b[0m\n\u001b[0;32m     91\u001b[0m         \u001b[1;32mfor\u001b[0m \u001b[0mmodule\u001b[0m \u001b[1;32min\u001b[0m \u001b[0mself\u001b[0m\u001b[1;33m.\u001b[0m\u001b[0m_modules\u001b[0m\u001b[1;33m.\u001b[0m\u001b[0mvalues\u001b[0m\u001b[1;33m(\u001b[0m\u001b[1;33m)\u001b[0m\u001b[1;33m:\u001b[0m\u001b[1;33m\u001b[0m\u001b[1;33m\u001b[0m\u001b[0m\n\u001b[1;32m---> 92\u001b[1;33m             \u001b[0minput\u001b[0m \u001b[1;33m=\u001b[0m \u001b[0mmodule\u001b[0m\u001b[1;33m(\u001b[0m\u001b[0minput\u001b[0m\u001b[1;33m)\u001b[0m\u001b[1;33m\u001b[0m\u001b[1;33m\u001b[0m\u001b[0m\n\u001b[0m\u001b[0;32m     93\u001b[0m         \u001b[1;32mreturn\u001b[0m \u001b[0minput\u001b[0m\u001b[1;33m\u001b[0m\u001b[1;33m\u001b[0m\u001b[0m\n\u001b[0;32m     94\u001b[0m \u001b[1;33m\u001b[0m\u001b[0m\n",
      "\u001b[1;32m/home/haoyu/ENV/localENV/anaconda3/lib/python3.7/site-packages/torch/nn/modules/module.py\u001b[0m in \u001b[0;36m__call__\u001b[1;34m(self, *input, **kwargs)\u001b[0m\n\u001b[0;32m    539\u001b[0m             \u001b[0mresult\u001b[0m \u001b[1;33m=\u001b[0m \u001b[0mself\u001b[0m\u001b[1;33m.\u001b[0m\u001b[0m_slow_forward\u001b[0m\u001b[1;33m(\u001b[0m\u001b[1;33m*\u001b[0m\u001b[0minput\u001b[0m\u001b[1;33m,\u001b[0m \u001b[1;33m**\u001b[0m\u001b[0mkwargs\u001b[0m\u001b[1;33m)\u001b[0m\u001b[1;33m\u001b[0m\u001b[1;33m\u001b[0m\u001b[0m\n\u001b[0;32m    540\u001b[0m         \u001b[1;32melse\u001b[0m\u001b[1;33m:\u001b[0m\u001b[1;33m\u001b[0m\u001b[1;33m\u001b[0m\u001b[0m\n\u001b[1;32m--> 541\u001b[1;33m             \u001b[0mresult\u001b[0m \u001b[1;33m=\u001b[0m \u001b[0mself\u001b[0m\u001b[1;33m.\u001b[0m\u001b[0mforward\u001b[0m\u001b[1;33m(\u001b[0m\u001b[1;33m*\u001b[0m\u001b[0minput\u001b[0m\u001b[1;33m,\u001b[0m \u001b[1;33m**\u001b[0m\u001b[0mkwargs\u001b[0m\u001b[1;33m)\u001b[0m\u001b[1;33m\u001b[0m\u001b[1;33m\u001b[0m\u001b[0m\n\u001b[0m\u001b[0;32m    542\u001b[0m         \u001b[1;32mfor\u001b[0m \u001b[0mhook\u001b[0m \u001b[1;32min\u001b[0m \u001b[0mself\u001b[0m\u001b[1;33m.\u001b[0m\u001b[0m_forward_hooks\u001b[0m\u001b[1;33m.\u001b[0m\u001b[0mvalues\u001b[0m\u001b[1;33m(\u001b[0m\u001b[1;33m)\u001b[0m\u001b[1;33m:\u001b[0m\u001b[1;33m\u001b[0m\u001b[1;33m\u001b[0m\u001b[0m\n\u001b[0;32m    543\u001b[0m             \u001b[0mhook_result\u001b[0m \u001b[1;33m=\u001b[0m \u001b[0mhook\u001b[0m\u001b[1;33m(\u001b[0m\u001b[0mself\u001b[0m\u001b[1;33m,\u001b[0m \u001b[0minput\u001b[0m\u001b[1;33m,\u001b[0m \u001b[0mresult\u001b[0m\u001b[1;33m)\u001b[0m\u001b[1;33m\u001b[0m\u001b[1;33m\u001b[0m\u001b[0m\n",
      "\u001b[1;32m/mfs/haoyu/project/CDCNN/ICNN/Official_Model_For_Paper/ModelTraining/TwoStep_Algorithm1_Clip/resnet_std.py\u001b[0m in \u001b[0;36mforward\u001b[1;34m(self, x)\u001b[0m\n\u001b[0;32m     81\u001b[0m         \u001b[0mresidual\u001b[0m \u001b[1;33m=\u001b[0m \u001b[0mx\u001b[0m\u001b[1;33m\u001b[0m\u001b[1;33m\u001b[0m\u001b[0m\n\u001b[0;32m     82\u001b[0m \u001b[1;33m\u001b[0m\u001b[0m\n\u001b[1;32m---> 83\u001b[1;33m         \u001b[0mout\u001b[0m \u001b[1;33m=\u001b[0m \u001b[0mself\u001b[0m\u001b[1;33m.\u001b[0m\u001b[0mconv1\u001b[0m\u001b[1;33m(\u001b[0m\u001b[0mx\u001b[0m\u001b[1;33m)\u001b[0m\u001b[1;33m\u001b[0m\u001b[1;33m\u001b[0m\u001b[0m\n\u001b[0m\u001b[0;32m     84\u001b[0m         \u001b[0mout\u001b[0m \u001b[1;33m=\u001b[0m \u001b[0mself\u001b[0m\u001b[1;33m.\u001b[0m\u001b[0mbn1\u001b[0m\u001b[1;33m(\u001b[0m\u001b[0mout\u001b[0m\u001b[1;33m)\u001b[0m\u001b[1;33m\u001b[0m\u001b[1;33m\u001b[0m\u001b[0m\n\u001b[0;32m     85\u001b[0m         \u001b[0mout\u001b[0m \u001b[1;33m=\u001b[0m \u001b[0mself\u001b[0m\u001b[1;33m.\u001b[0m\u001b[0mrelu\u001b[0m\u001b[1;33m(\u001b[0m\u001b[0mout\u001b[0m\u001b[1;33m)\u001b[0m\u001b[1;33m\u001b[0m\u001b[1;33m\u001b[0m\u001b[0m\n",
      "\u001b[1;32m/home/haoyu/ENV/localENV/anaconda3/lib/python3.7/site-packages/torch/nn/modules/module.py\u001b[0m in \u001b[0;36m__call__\u001b[1;34m(self, *input, **kwargs)\u001b[0m\n\u001b[0;32m    539\u001b[0m             \u001b[0mresult\u001b[0m \u001b[1;33m=\u001b[0m \u001b[0mself\u001b[0m\u001b[1;33m.\u001b[0m\u001b[0m_slow_forward\u001b[0m\u001b[1;33m(\u001b[0m\u001b[1;33m*\u001b[0m\u001b[0minput\u001b[0m\u001b[1;33m,\u001b[0m \u001b[1;33m**\u001b[0m\u001b[0mkwargs\u001b[0m\u001b[1;33m)\u001b[0m\u001b[1;33m\u001b[0m\u001b[1;33m\u001b[0m\u001b[0m\n\u001b[0;32m    540\u001b[0m         \u001b[1;32melse\u001b[0m\u001b[1;33m:\u001b[0m\u001b[1;33m\u001b[0m\u001b[1;33m\u001b[0m\u001b[0m\n\u001b[1;32m--> 541\u001b[1;33m             \u001b[0mresult\u001b[0m \u001b[1;33m=\u001b[0m \u001b[0mself\u001b[0m\u001b[1;33m.\u001b[0m\u001b[0mforward\u001b[0m\u001b[1;33m(\u001b[0m\u001b[1;33m*\u001b[0m\u001b[0minput\u001b[0m\u001b[1;33m,\u001b[0m \u001b[1;33m**\u001b[0m\u001b[0mkwargs\u001b[0m\u001b[1;33m)\u001b[0m\u001b[1;33m\u001b[0m\u001b[1;33m\u001b[0m\u001b[0m\n\u001b[0m\u001b[0;32m    542\u001b[0m         \u001b[1;32mfor\u001b[0m \u001b[0mhook\u001b[0m \u001b[1;32min\u001b[0m \u001b[0mself\u001b[0m\u001b[1;33m.\u001b[0m\u001b[0m_forward_hooks\u001b[0m\u001b[1;33m.\u001b[0m\u001b[0mvalues\u001b[0m\u001b[1;33m(\u001b[0m\u001b[1;33m)\u001b[0m\u001b[1;33m:\u001b[0m\u001b[1;33m\u001b[0m\u001b[1;33m\u001b[0m\u001b[0m\n\u001b[0;32m    543\u001b[0m             \u001b[0mhook_result\u001b[0m \u001b[1;33m=\u001b[0m \u001b[0mhook\u001b[0m\u001b[1;33m(\u001b[0m\u001b[0mself\u001b[0m\u001b[1;33m,\u001b[0m \u001b[0minput\u001b[0m\u001b[1;33m,\u001b[0m \u001b[0mresult\u001b[0m\u001b[1;33m)\u001b[0m\u001b[1;33m\u001b[0m\u001b[1;33m\u001b[0m\u001b[0m\n",
      "\u001b[1;32m/home/haoyu/ENV/localENV/anaconda3/lib/python3.7/site-packages/torch/nn/modules/conv.py\u001b[0m in \u001b[0;36mforward\u001b[1;34m(self, input)\u001b[0m\n\u001b[0;32m    343\u001b[0m \u001b[1;33m\u001b[0m\u001b[0m\n\u001b[0;32m    344\u001b[0m     \u001b[1;32mdef\u001b[0m \u001b[0mforward\u001b[0m\u001b[1;33m(\u001b[0m\u001b[0mself\u001b[0m\u001b[1;33m,\u001b[0m \u001b[0minput\u001b[0m\u001b[1;33m)\u001b[0m\u001b[1;33m:\u001b[0m\u001b[1;33m\u001b[0m\u001b[1;33m\u001b[0m\u001b[0m\n\u001b[1;32m--> 345\u001b[1;33m         \u001b[1;32mreturn\u001b[0m \u001b[0mself\u001b[0m\u001b[1;33m.\u001b[0m\u001b[0mconv2d_forward\u001b[0m\u001b[1;33m(\u001b[0m\u001b[0minput\u001b[0m\u001b[1;33m,\u001b[0m \u001b[0mself\u001b[0m\u001b[1;33m.\u001b[0m\u001b[0mweight\u001b[0m\u001b[1;33m)\u001b[0m\u001b[1;33m\u001b[0m\u001b[1;33m\u001b[0m\u001b[0m\n\u001b[0m\u001b[0;32m    346\u001b[0m \u001b[1;33m\u001b[0m\u001b[0m\n\u001b[0;32m    347\u001b[0m \u001b[1;32mclass\u001b[0m \u001b[0mConv3d\u001b[0m\u001b[1;33m(\u001b[0m\u001b[0m_ConvNd\u001b[0m\u001b[1;33m)\u001b[0m\u001b[1;33m:\u001b[0m\u001b[1;33m\u001b[0m\u001b[1;33m\u001b[0m\u001b[0m\n",
      "\u001b[1;32m/home/haoyu/ENV/localENV/anaconda3/lib/python3.7/site-packages/torch/nn/modules/conv.py\u001b[0m in \u001b[0;36mconv2d_forward\u001b[1;34m(self, input, weight)\u001b[0m\n\u001b[0;32m    340\u001b[0m                             _pair(0), self.dilation, self.groups)\n\u001b[0;32m    341\u001b[0m         return F.conv2d(input, weight, self.bias, self.stride,\n\u001b[1;32m--> 342\u001b[1;33m                         self.padding, self.dilation, self.groups)\n\u001b[0m\u001b[0;32m    343\u001b[0m \u001b[1;33m\u001b[0m\u001b[0m\n\u001b[0;32m    344\u001b[0m     \u001b[1;32mdef\u001b[0m \u001b[0mforward\u001b[0m\u001b[1;33m(\u001b[0m\u001b[0mself\u001b[0m\u001b[1;33m,\u001b[0m \u001b[0minput\u001b[0m\u001b[1;33m)\u001b[0m\u001b[1;33m:\u001b[0m\u001b[1;33m\u001b[0m\u001b[1;33m\u001b[0m\u001b[0m\n",
      "\u001b[1;31mKeyboardInterrupt\u001b[0m: "
     ]
    }
   ],
   "source": [
    "pbar = tqdm(bar_format='{desc}',leave=True) \n",
    "\n",
    "sum_cam_IoU = {'LSG':  0.0 , 'naive' : 0.0 }\n",
    "sum_cam_related =  {'LSG':  0 , 'naive' : 0 }\n",
    "num_cam =  {'LSG':  0.0 , 'naive' : 0.0 }\n",
    "mean_cam_IoU = {'LSG':  0.0 , 'naive' : 0.0 }\n",
    "mean_cam_related = {'LSG':  0.0 , 'naive' : 0.0 }\n",
    "\n",
    "sum_cam_UoI_class = {'LSG': np.zeros(num_class), 'naive' :  np.zeros(num_class)} \n",
    "num_cam_UoI_class = {'LSG': np.zeros(num_class), 'naive' :  np.zeros(num_class)} \n",
    "mean_cam_UoI_class = {'LSG': np.zeros(num_class), 'naive' :  np.zeros(num_class)} \n",
    "\n",
    "for img_id,(img, label, obj_mask, part_mask) in enumerate(dataset):\n",
    "    # print(label )\n",
    "    # print(*img.shape)\n",
    "    img = img.view(1,*img.shape).to(device)\n",
    "    for method in ['LSG', 'naive']:\n",
    "        feature_map = model[method](img)[0].detach().cpu()\n",
    "        # cam = feature_map * \n",
    "\n",
    "        weight = model[method].module.fc.weight.detach().cpu() # [6, 2048]\n",
    "        weight = weight[label]\n",
    "        # print('weight', type(weight), weight.dtype, weight.shape) # <class 'torch.Tensor'> torch.float32 torch.Size([2048])\n",
    "        # print('feature_map', type(feature_map), feature_map.dtype, feature_map.shape) # <class 'torch.Tensor'> torch.float32 torch.Size([2048, 4, 4])\n",
    "        cam = ( feature_map * weight.view([-1,1,1]) ).sum(axis=0)\n",
    "        # print('cam', cam.shape, cam.min(), cam.max()) # cam torch.Size([4, 4])\n",
    "\n",
    "        cam_IoU = get_IoU(cam, obj_mask, top_rate=cam_top_rate)\n",
    "        # print('cam_IoU =', cam_IoU)\n",
    "        \n",
    "        sum_cam_IoU[method] += cam_IoU\n",
    "        sum_cam_related[method] += int(cam_IoU>cam_UoI_threshold)\n",
    "        num_cam[method] += 1\n",
    "\n",
    "        mean_cam_IoU[method] = sum_cam_IoU[method] / num_cam[method]\n",
    "        mean_cam_related[method] = sum_cam_related[method] / num_cam[method]\n",
    "\n",
    "        sum_cam_UoI_class[method][label] += cam_IoU\n",
    "        num_cam_UoI_class[method][label] += 1\n",
    "\n",
    "        mean_cam_UoI_class[method] = dev_zero_replace(sum_cam_UoI_class[method], num_cam_UoI_class[method])\n",
    "\n",
    "    pbar.set_description_str(  ( 'LSG ' + num_class*'%5f '+' | naive ' + num_class*'%5f '+' | ')%(*mean_cam_UoI_class['LSG'], *mean_cam_UoI_class['naive']) )\n",
    "    pbar.update()\n",
    "pbar.close()\n",
    "\n"
   ]
  },
  {
   "cell_type": "code",
   "execution_count": 24,
   "metadata": {},
   "outputs": [],
   "source": [
    "import numpy as np\n",
    "a = np.random.rand(2,4)"
   ]
  },
  {
   "cell_type": "code",
   "execution_count": 25,
   "metadata": {},
   "outputs": [
    {
     "data": {
      "text/plain": "array([[0.08875532, 0.41541718, 0.09725226, 0.82855304],\n       [0.56296417, 0.97682151, 0.8819183 , 0.90167334]])"
     },
     "execution_count": 25,
     "metadata": {},
     "output_type": "execute_result"
    }
   ],
   "source": [
    "a"
   ]
  },
  {
   "cell_type": "code",
   "execution_count": 26,
   "metadata": {},
   "outputs": [
    {
     "data": {
      "text/plain": "array([3, 1])"
     },
     "execution_count": 26,
     "metadata": {},
     "output_type": "execute_result"
    }
   ],
   "source": [
    "idx = a.argmax(1)\n",
    "idx"
   ]
  },
  {
   "cell_type": "code",
   "execution_count": 27,
   "metadata": {},
   "outputs": [],
   "source": [
    "coords = np.array([range(a.shape[0]),idx])\n",
    "\n"
   ]
  },
  {
   "cell_type": "code",
   "execution_count": 28,
   "metadata": {},
   "outputs": [
    {
     "data": {
      "text/plain": "array([0.82855304, 0.97682151])"
     },
     "execution_count": 28,
     "metadata": {},
     "output_type": "execute_result"
    }
   ],
   "source": [
    "coords = np.array([range(a.shape[0]),idx])\n",
    "def take(x,coords):\n",
    "    # coords = np.array(每列是个坐标)\n",
    "    return np.take(x, np.ravel_multi_index(coords, x.shape))\n",
    "take(a, coords)"
   ]
  },
  {
   "cell_type": "code",
   "execution_count": null,
   "metadata": {},
   "outputs": [],
   "source": []
  }
 ]
}