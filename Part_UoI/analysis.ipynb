{
 "nbformat": 4,
 "nbformat_minor": 2,
 "metadata": {
  "language_info": {
   "name": "python",
   "codemirror_mode": {
    "name": "ipython",
    "version": 3
   },
   "version": "3.7.3"
  },
  "orig_nbformat": 2,
  "file_extension": ".py",
  "mimetype": "text/x-python",
  "name": "python",
  "npconvert_exporter": "python",
  "pygments_lexer": "ipython3",
  "version": 3
 },
 "cells": [
  {
   "cell_type": "code",
   "execution_count": 1,
   "metadata": {},
   "outputs": [],
   "source": [
    "import sys, os, torch, torchvision\n",
    "import numpy as np\n",
    "sys.path.append('/mfs/haoyu/project/CDCNN/ICNN/Official_Model_For_Paper/ModelTraining/TwoStep_Algorithm1_Clip')\n",
    "from resnet_std import resent as resnet_std\n",
    "from resnet_std import ResNet\n",
    "from VOCPart import VOCPart\n",
    "from tqdm import tqdm\n",
    "os.environ[\"CUDA_VISIBLE_DEVICES\"] = \"1\"\n",
    "device_str = \"cuda:0\"\n",
    "device = torch.device(device_str)"
   ]
  },
  {
   "cell_type": "code",
   "execution_count": 2,
   "metadata": {},
   "outputs": [],
   "source": [
    "\n",
    "ResNet.forward = ResNet.get_feature_map\n",
    "\n",
    "exp_dir = { 'LSG': '/mfs/haoyu/project/CDCNN/ICNN_exp/VOCPart_train0.7_128_pretrained/res152_bs32_adam_lr1e-3_lrreg1e-3_lmd1e-3_frozen_6:2',\n",
    "            'naive' : '/mfs/haoyu/project/CDCNN/ICNN_exp/VOCPart_train0.7_128_pretrained/naive_res152_bs32_adam_lr1e-5'}\n",
    "\n",
    "model = {} \n",
    "for method in ['LSG', 'naive']:\n",
    "    ifmask = method == 'LSG'\n",
    "    model[method] = resnet_std(depth=152, num_classes=6, pretrained=True, ifmask=ifmask)\n",
    "    model[method] = model[method].to(device)\n",
    "    model[method] = torch.nn.DataParallel(model[method]) # device_ids=args.gpu_ids\n",
    "    # patch_replication_callback(model)\n",
    "    unfinished_model_path = os.path.join(exp_dir[method] , 'unfinished_model_110.pt')\n",
    "    checkpoint = torch.load(unfinished_model_path,map_location={'cuda:0': device_str})\n",
    "    model[method].load_state_dict(checkpoint['model_state_dict'])\n",
    "# optimizer.load_state_dict(checkpoint['optimizer_state_dict'])\n",
    "# epoch = checkpoint['epoch']+1\n",
    "# loss = checkpoint['loss']\n"
   ]
  },
  {
   "cell_type": "code",
   "execution_count": 3,
   "metadata": {},
   "outputs": [
    {
     "name": "stdout",
     "output_type": "stream",
     "text": "mask (2048, 6)\n"
    },
    {
     "data": {
      "image/png": "[encoded data removed]",
      "image/svg+xml": "<?xml version=\"1.0\" encoding=\"utf-8\" standalone=\"no\"?>\n<!DOCTYPE svg PUBLIC \"-//W3C//DTD SVG 1.1//EN\"\n  \"http://www.w3.org/Graphics/SVG/1.1/DTD/svg11.dtd\">\n<!-- Created with matplotlib (https://matplotlib.org/) -->\n<svg height=\"248.518125pt\" version=\"1.1\" viewBox=\"0 0 108.897625 248.518125\" width=\"108.897625pt\" xmlns=\"http://www.w3.org/2000/svg\" xmlns:xlink=\"http://www.w3.org/1999/xlink\">\n <defs>\n  <style type=\"text/css\">\n*{stroke-linecap:butt;stroke-linejoin:round;}\n  </style>\n </defs>\n <g id=\"figure_1\">\n  <g id=\"patch_1\">\n   <path d=\"M 0 248.518125 \nL 108.897625 248.518125 \nL 108.897625 0 \nL 0 0 \nz\n\" style=\"fill:none;\"/>\n  </g>\n  <g id=\"axes_1\">\n   <g id=\"patch_2\">\n    <path d=\"M 36.465625 224.64 \nL 101.697625 224.64 \nL 101.697625 7.2 \nL 36.465625 7.2 \nz\n\" style=\"fill:#ffffff;\"/>\n   </g>\n   <g clip-path=\"url(#pe5bfbf7b89)\">\n    <image height=\"218\" id=\"imageed84338018\" transform=\"scale(1 -1)translate(0 -218)\" width=\"66\" x=\"36.465625\" xlink:href=\"data:image/png;base64,\niVBORw0KGgoAAAANSUhEUgAAAEIAAADaCAYAAAASYZTGAAAABHNCSVQICAgIfAhkiAAAAolJREFUeJzt3SGKVlEYgOH/l1+bBjGIYRC0DIhos9gENyAWd2B0BzJuwgVY3MFkQQSDIoJJbaNBi2YZy7uAc4SLd4bnyV+4vHzhzOWef7b3tg+ON4MOj96Pjm7uX7k1PLsGZ/73A6yFEBEiQkSICBEhIkSEiBDZzQyftGPzzJ8ENiJCRIgIESEiRISIEBEiQmTqiL0Gn1/cnph2xJ4mRISIEBEiQkSICBEhIkQWO2Kff3VpePb33R/Ds9cevRt/iKPxURsRISJEhIgQESJCRIgIESGye/jp+/Dwy/3Lw7M/n10dnj23GT9iH3x9Ozy72ZwdnrQRESJCRIgIESEiRISIEBEi25nrjjNO2tVIGxEhIkSEiBARIkJEiAiRxb6PWMNp0S2/fyBEhIgQESJCRIgIESEiRFZxy2+pF70zszYiQkSICBEhIkSEiBARIkJk++fb9eHvI9bwZnopNiJCRIgIESEiRISIEBEiQkSICBEhIkSEiBARIkJEiAgRIbLbf/54eHhv83p41i2/E0qICBEhIkSEiBARIkJEiOz2no4fm08zGxEhIkSEiBARIkJEiAgRISJEhIgQESJCRIgIESEiRISIEFnFj/at4aMSGxEhIkSEiBARIkJEiAgRIbLYEXsNx+YZNiJCRIgIESEiRISIEBEiQmTqiL3Y71d//DX+DDcuDM/OsBERIkJEiAgRISJEhIgQmTpZLvWS9cnFL8Ozh5uJZ7hzc3jURkSICBEhIkSEiBARIkJEiJzu7yPefBgetRERIkJEiAgRISJEhIgQESKruOW3lJljvo2IEBEiQkSICBEhIkSEiBBZ7v+Gb7fjs8fDj7AYGxEhIkSEiBARIkJEiAgRIfIXVr1LC5YIwRMAAAAASUVORK5CYII=\" y=\"-6.64\"/>\n   </g>\n   <g id=\"matplotlib.axis_1\">\n    <g id=\"xtick_1\">\n     <g id=\"line2d_1\">\n      <defs>\n       <path d=\"M 0 0 \nL 0 3.5 \n\" id=\"ma8c5ef73fe\" style=\"stroke:#000000;stroke-width:0.8;\"/>\n      </defs>\n      <g>\n       <use style=\"stroke:#000000;stroke-width:0.8;\" x=\"41.901625\" xlink:href=\"#ma8c5ef73fe\" y=\"224.64\"/>\n      </g>\n     </g>\n     <g id=\"text_1\">\n      <!-- 0 -->\n      <defs>\n       <path d=\"M 31.78125 66.40625 \nQ 24.171875 66.40625 20.328125 58.90625 \nQ 16.5 51.421875 16.5 36.375 \nQ 16.5 21.390625 20.328125 13.890625 \nQ 24.171875 6.390625 31.78125 6.390625 \nQ 39.453125 6.390625 43.28125 13.890625 \nQ 47.125 21.390625 47.125 36.375 \nQ 47.125 51.421875 43.28125 58.90625 \nQ 39.453125 66.40625 31.78125 66.40625 \nz\nM 31.78125 74.21875 \nQ 44.046875 74.21875 50.515625 64.515625 \nQ 56.984375 54.828125 56.984375 36.375 \nQ 56.984375 17.96875 50.515625 8.265625 \nQ 44.046875 -1.421875 31.78125 -1.421875 \nQ 19.53125 -1.421875 13.0625 8.265625 \nQ 6.59375 17.96875 6.59375 36.375 \nQ 6.59375 54.828125 13.0625 64.515625 \nQ 19.53125 74.21875 31.78125 74.21875 \nz\n\" id=\"DejaVuSans-48\"/>\n      </defs>\n      <g transform=\"translate(38.720375 239.238438)scale(0.1 -0.1)\">\n       <use xlink:href=\"#DejaVuSans-48\"/>\n      </g>\n     </g>\n    </g>\n    <g id=\"xtick_2\">\n     <g id=\"line2d_2\">\n      <g>\n       <use style=\"stroke:#000000;stroke-width:0.8;\" x=\"96.261625\" xlink:href=\"#ma8c5ef73fe\" y=\"224.64\"/>\n      </g>\n     </g>\n     <g id=\"text_2\">\n      <!-- 5 -->\n      <defs>\n       <path d=\"M 10.796875 72.90625 \nL 49.515625 72.90625 \nL 49.515625 64.59375 \nL 19.828125 64.59375 \nL 19.828125 46.734375 \nQ 21.96875 47.46875 24.109375 47.828125 \nQ 26.265625 48.1875 28.421875 48.1875 \nQ 40.625 48.1875 47.75 41.5 \nQ 54.890625 34.8125 54.890625 23.390625 \nQ 54.890625 11.625 47.5625 5.09375 \nQ 40.234375 -1.421875 26.90625 -1.421875 \nQ 22.3125 -1.421875 17.546875 -0.640625 \nQ 12.796875 0.140625 7.71875 1.703125 \nL 7.71875 11.625 \nQ 12.109375 9.234375 16.796875 8.0625 \nQ 21.484375 6.890625 26.703125 6.890625 \nQ 35.15625 6.890625 40.078125 11.328125 \nQ 45.015625 15.765625 45.015625 23.390625 \nQ 45.015625 31 40.078125 35.4375 \nQ 35.15625 39.890625 26.703125 39.890625 \nQ 22.75 39.890625 18.8125 39.015625 \nQ 14.890625 38.140625 10.796875 36.28125 \nz\n\" id=\"DejaVuSans-53\"/>\n      </defs>\n      <g transform=\"translate(93.080375 239.238438)scale(0.1 -0.1)\">\n       <use xlink:href=\"#DejaVuSans-53\"/>\n      </g>\n     </g>\n    </g>\n   </g>\n   <g id=\"matplotlib.axis_2\">\n    <g id=\"ytick_1\">\n     <g id=\"line2d_3\">\n      <defs>\n       <path d=\"M 0 0 \nL -3.5 0 \n\" id=\"m07b9cf7cec\" style=\"stroke:#000000;stroke-width:0.8;\"/>\n      </defs>\n      <g>\n       <use style=\"stroke:#000000;stroke-width:0.8;\" x=\"36.465625\" xlink:href=\"#m07b9cf7cec\" y=\"12.636\"/>\n      </g>\n     </g>\n     <g id=\"text_3\">\n      <!-- 0.0 -->\n      <defs>\n       <path d=\"M 10.6875 12.40625 \nL 21 12.40625 \nL 21 0 \nL 10.6875 0 \nz\n\" id=\"DejaVuSans-46\"/>\n      </defs>\n      <g transform=\"translate(13.5625 16.435219)scale(0.1 -0.1)\">\n       <use xlink:href=\"#DejaVuSans-48\"/>\n       <use x=\"63.623047\" xlink:href=\"#DejaVuSans-46\"/>\n       <use x=\"95.410156\" xlink:href=\"#DejaVuSans-48\"/>\n      </g>\n     </g>\n    </g>\n    <g id=\"ytick_2\">\n     <g id=\"line2d_4\">\n      <g>\n       <use style=\"stroke:#000000;stroke-width:0.8;\" x=\"36.465625\" xlink:href=\"#m07b9cf7cec\" y=\"39.816\"/>\n      </g>\n     </g>\n     <g id=\"text_4\">\n      <!-- 2.5 -->\n      <defs>\n       <path d=\"M 19.1875 8.296875 \nL 53.609375 8.296875 \nL 53.609375 0 \nL 7.328125 0 \nL 7.328125 8.296875 \nQ 12.9375 14.109375 22.625 23.890625 \nQ 32.328125 33.6875 34.8125 36.53125 \nQ 39.546875 41.84375 41.421875 45.53125 \nQ 43.3125 49.21875 43.3125 52.78125 \nQ 43.3125 58.59375 39.234375 62.25 \nQ 35.15625 65.921875 28.609375 65.921875 \nQ 23.96875 65.921875 18.8125 64.3125 \nQ 13.671875 62.703125 7.8125 59.421875 \nL 7.8125 69.390625 \nQ 13.765625 71.78125 18.9375 73 \nQ 24.125 74.21875 28.421875 74.21875 \nQ 39.75 74.21875 46.484375 68.546875 \nQ 53.21875 62.890625 53.21875 53.421875 \nQ 53.21875 48.921875 51.53125 44.890625 \nQ 49.859375 40.875 45.40625 35.40625 \nQ 44.1875 33.984375 37.640625 27.21875 \nQ 31.109375 20.453125 19.1875 8.296875 \nz\n\" id=\"DejaVuSans-50\"/>\n      </defs>\n      <g transform=\"translate(13.5625 43.615219)scale(0.1 -0.1)\">\n       <use xlink:href=\"#DejaVuSans-50\"/>\n       <use x=\"63.623047\" xlink:href=\"#DejaVuSans-46\"/>\n       <use x=\"95.410156\" xlink:href=\"#DejaVuSans-53\"/>\n      </g>\n     </g>\n    </g>\n    <g id=\"ytick_3\">\n     <g id=\"line2d_5\">\n      <g>\n       <use style=\"stroke:#000000;stroke-width:0.8;\" x=\"36.465625\" xlink:href=\"#m07b9cf7cec\" y=\"66.996\"/>\n      </g>\n     </g>\n     <g id=\"text_5\">\n      <!-- 5.0 -->\n      <g transform=\"translate(13.5625 70.795219)scale(0.1 -0.1)\">\n       <use xlink:href=\"#DejaVuSans-53\"/>\n       <use x=\"63.623047\" xlink:href=\"#DejaVuSans-46\"/>\n       <use x=\"95.410156\" xlink:href=\"#DejaVuSans-48\"/>\n      </g>\n     </g>\n    </g>\n    <g id=\"ytick_4\">\n     <g id=\"line2d_6\">\n      <g>\n       <use style=\"stroke:#000000;stroke-width:0.8;\" x=\"36.465625\" xlink:href=\"#m07b9cf7cec\" y=\"94.176\"/>\n      </g>\n     </g>\n     <g id=\"text_6\">\n      <!-- 7.5 -->\n      <defs>\n       <path d=\"M 8.203125 72.90625 \nL 55.078125 72.90625 \nL 55.078125 68.703125 \nL 28.609375 0 \nL 18.3125 0 \nL 43.21875 64.59375 \nL 8.203125 64.59375 \nz\n\" id=\"DejaVuSans-55\"/>\n      </defs>\n      <g transform=\"translate(13.5625 97.975219)scale(0.1 -0.1)\">\n       <use xlink:href=\"#DejaVuSans-55\"/>\n       <use x=\"63.623047\" xlink:href=\"#DejaVuSans-46\"/>\n       <use x=\"95.410156\" xlink:href=\"#DejaVuSans-53\"/>\n      </g>\n     </g>\n    </g>\n    <g id=\"ytick_5\">\n     <g id=\"line2d_7\">\n      <g>\n       <use style=\"stroke:#000000;stroke-width:0.8;\" x=\"36.465625\" xlink:href=\"#m07b9cf7cec\" y=\"121.356\"/>\n      </g>\n     </g>\n     <g id=\"text_7\">\n      <!-- 10.0 -->\n      <defs>\n       <path d=\"M 12.40625 8.296875 \nL 28.515625 8.296875 \nL 28.515625 63.921875 \nL 10.984375 60.40625 \nL 10.984375 69.390625 \nL 28.421875 72.90625 \nL 38.28125 72.90625 \nL 38.28125 8.296875 \nL 54.390625 8.296875 \nL 54.390625 0 \nL 12.40625 0 \nz\n\" id=\"DejaVuSans-49\"/>\n      </defs>\n      <g transform=\"translate(7.2 125.155219)scale(0.1 -0.1)\">\n       <use xlink:href=\"#DejaVuSans-49\"/>\n       <use x=\"63.623047\" xlink:href=\"#DejaVuSans-48\"/>\n       <use x=\"127.246094\" xlink:href=\"#DejaVuSans-46\"/>\n       <use x=\"159.033203\" xlink:href=\"#DejaVuSans-48\"/>\n      </g>\n     </g>\n    </g>\n    <g id=\"ytick_6\">\n     <g id=\"line2d_8\">\n      <g>\n       <use style=\"stroke:#000000;stroke-width:0.8;\" x=\"36.465625\" xlink:href=\"#m07b9cf7cec\" y=\"148.536\"/>\n      </g>\n     </g>\n     <g id=\"text_8\">\n      <!-- 12.5 -->\n      <g transform=\"translate(7.2 152.335219)scale(0.1 -0.1)\">\n       <use xlink:href=\"#DejaVuSans-49\"/>\n       <use x=\"63.623047\" xlink:href=\"#DejaVuSans-50\"/>\n       <use x=\"127.246094\" xlink:href=\"#DejaVuSans-46\"/>\n       <use x=\"159.033203\" xlink:href=\"#DejaVuSans-53\"/>\n      </g>\n     </g>\n    </g>\n    <g id=\"ytick_7\">\n     <g id=\"line2d_9\">\n      <g>\n       <use style=\"stroke:#000000;stroke-width:0.8;\" x=\"36.465625\" xlink:href=\"#m07b9cf7cec\" y=\"175.716\"/>\n      </g>\n     </g>\n     <g id=\"text_9\">\n      <!-- 15.0 -->\n      <g transform=\"translate(7.2 179.515219)scale(0.1 -0.1)\">\n       <use xlink:href=\"#DejaVuSans-49\"/>\n       <use x=\"63.623047\" xlink:href=\"#DejaVuSans-53\"/>\n       <use x=\"127.246094\" xlink:href=\"#DejaVuSans-46\"/>\n       <use x=\"159.033203\" xlink:href=\"#DejaVuSans-48\"/>\n      </g>\n     </g>\n    </g>\n    <g id=\"ytick_8\">\n     <g id=\"line2d_10\">\n      <g>\n       <use style=\"stroke:#000000;stroke-width:0.8;\" x=\"36.465625\" xlink:href=\"#m07b9cf7cec\" y=\"202.896\"/>\n      </g>\n     </g>\n     <g id=\"text_10\">\n      <!-- 17.5 -->\n      <g transform=\"translate(7.2 206.695219)scale(0.1 -0.1)\">\n       <use xlink:href=\"#DejaVuSans-49\"/>\n       <use x=\"63.623047\" xlink:href=\"#DejaVuSans-55\"/>\n       <use x=\"127.246094\" xlink:href=\"#DejaVuSans-46\"/>\n       <use x=\"159.033203\" xlink:href=\"#DejaVuSans-53\"/>\n      </g>\n     </g>\n    </g>\n   </g>\n   <g id=\"patch_3\">\n    <path d=\"M 36.465625 224.64 \nL 36.465625 7.2 \n\" style=\"fill:none;stroke:#000000;stroke-linecap:square;stroke-linejoin:miter;stroke-width:0.8;\"/>\n   </g>\n   <g id=\"patch_4\">\n    <path d=\"M 101.697625 224.64 \nL 101.697625 7.2 \n\" style=\"fill:none;stroke:#000000;stroke-linecap:square;stroke-linejoin:miter;stroke-width:0.8;\"/>\n   </g>\n   <g id=\"patch_5\">\n    <path d=\"M 36.465625 224.64 \nL 101.697625 224.64 \n\" style=\"fill:none;stroke:#000000;stroke-linecap:square;stroke-linejoin:miter;stroke-width:0.8;\"/>\n   </g>\n   <g id=\"patch_6\">\n    <path d=\"M 36.465625 7.2 \nL 101.697625 7.2 \n\" style=\"fill:none;stroke:#000000;stroke-linecap:square;stroke-linejoin:miter;stroke-width:0.8;\"/>\n   </g>\n  </g>\n </g>\n <defs>\n  <clipPath id=\"pe5bfbf7b89\">\n   <rect height=\"217.44\" width=\"65.232\" x=\"36.465625\" y=\"7.2\"/>\n  </clipPath>\n </defs>\n</svg>\n",
      "text/plain": "<Figure size 432x288 with 1 Axes>"
     },
     "metadata": {
      "needs_background": "light"
     },
     "output_type": "display_data"
    }
   ],
   "source": [
    "mask = model['LSG'].module.lmask.mask.detach().cpu().numpy()\n",
    "print('mask',mask.shape)\n",
    "from matplotlib import pyplot as plt\n",
    "plt.imshow(mask[0:20,:])\n",
    "plt.show()\n",
    "\n",
    "num_channel, num_class = mask.shape"
   ]
  },
  {
   "cell_type": "code",
   "execution_count": 4,
   "metadata": {},
   "outputs": [
    {
     "name": "stdout",
     "output_type": "stream",
     "text": "val set\nimage size 128x128\nimage num = 1700\nnaive img_num = 212\n[4.49162149 1.39210093 3.2163949  ... 0.924703   0.69000798 0.87709999]\n[2.6833868  2.03313327 3.28682542 ... 1.79447234 1.5588336  1.78139877]\n"
    }
   ],
   "source": [
    "dataset = VOCPart('/home/haoyu/data/VOCPart', train=False, requires=['img'], size=128)\n",
    "dataloader = torch.utils.data.DataLoader(dataset,\n",
    "                batch_size=32, pin_memory=True,\n",
    "                shuffle=False, num_workers=16)\n",
    "\n",
    "threshold_probability = 0.05  #  0.005\n",
    "num_large = int( threshold_probability * 4 *4 * len(dataset) )\n",
    "\n",
    "\n",
    "# class Largest(object):\n",
    "#     def __init__(self, size):\n",
    "#         self.largests = []\n",
    "#         self.size= size\n",
    "#     def add(self, x):\n",
    "#         if  len(self.largests)<self.size:\n",
    "#             self.largests.append(x)\n",
    "#             self.largests=sorted(self.largests)\n",
    "#         elif x > self.largests[0]:\n",
    "#             self.largests[0]=x\n",
    "#             self.largests=sorted(self.largests)\n",
    "#     def smallest(self):\n",
    "#         return self.largests[0]\n",
    "threshold = {}\n",
    "for method in ['LSG', 'naive']:\n",
    "    activations = np.zeros((num_channel, len(dataset)*16))\n",
    "\n",
    "    # largests = Largest(num_large)\n",
    "    # for x in range(1000):\n",
    "    #     largests.add(x)\n",
    "\n",
    "    # largsest = [Largest(num_large) for i in range(num_channel)]\n",
    "\n",
    "    for batch_id, (imgs, labels) in enumerate(dataloader):\n",
    "        \n",
    "        fmap = model[method](imgs)\n",
    "        bs, n_channel, _, _ =fmap.shape\n",
    "        fmap = fmap.view(bs, n_channel, -1)\n",
    "\n",
    "        activations_channels = torch.cat((*fmap, ), 1) # num_channel, batch_size * 16\n",
    "\n",
    "        activations[:, (batch_id*bs*16):((batch_id+1)*bs*16)] = activations_channels.detach().cpu().numpy()\n",
    "    \n",
    "        print(method,'img_num =', batch_id * bs, end='\\r')\n",
    "        # for channel, activations in enumerate(activations_channels):\n",
    "        #     # print('activations.shape',activations.shape)\n",
    "        #     for x in activations:\n",
    "        #         x = x.item()\n",
    "        #         # print(type(x),x)\n",
    "        #         largsest[channel].add(x)\n",
    "        #     # break\n",
    "        # # break\n",
    "    activations_sort = np.sort(activations, axis=1)\n",
    "    threshold[method] = activations_sort[:,-num_large]\n",
    "\n",
    "print()\n",
    "print(threshold['LSG'])\n",
    "print(threshold['naive'])\n",
    "# activations.size()"
   ]
  },
  {
   "cell_type": "code",
   "execution_count": 5,
   "metadata": {},
   "outputs": [
    {
     "name": "stdout",
     "output_type": "stream",
     "text": "val set\nimage size 128x128\nimage num = 1700\n"
    }
   ],
   "source": [
    "dataset = VOCPart('/home/haoyu/data/VOCPart', train=False, requires=['img','obj_mask', 'part_mask'], size=128)\n",
    "dataloader = torch.utils.data.DataLoader(dataset,\n",
    "                batch_size=32, pin_memory=True,\n",
    "                shuffle=False, num_workers=16)"
   ]
  },
  {
   "cell_type": "code",
   "execution_count": 6,
   "metadata": {},
   "outputs": [
    {
     "name": "stderr",
     "output_type": "stream",
     "text": "img_num   1699  mean_score_filter LSG : naive = 0.528442 : 0.049774"
    }
   ],
   "source": [
    "num_class = 6\n",
    "# threshold = 1\n",
    "UoI_threshold = 0.04\n",
    "# num_class = 6\n",
    "# num_channel = 2048\n",
    "\n",
    "def dev_zero_replace(a,b):\n",
    "    return np.divide(a, b,\n",
    "             out=np.zeros_like(a/1.0),\n",
    "             where=(b!=0))\n",
    "\n",
    "\n",
    "def get_IoU(fmap, obj_mask, _threshold):\n",
    "    # 皆是 torch.tensor(1,128,128)\n",
    "\n",
    "    # fmap = fmap[0]\n",
    "\n",
    "    # print('fmap', fmap.shape)\n",
    "    # plt.imshow(fmap, cmap='gray')\n",
    "    # plt.show()\n",
    "\n",
    "\n",
    "    fmap = torch.nn.functional.interpolate(fmap.view(1,1,4,4), 128, mode='bilinear', align_corners=False) [0]\n",
    "    # print('fmap', fmap.shape)\n",
    "\n",
    "    fmap = fmap[0]\n",
    "    obj_mask = obj_mask[0]    \n",
    "\n",
    "    # plt.imshow(fmap, cmap='gray')\n",
    "    # plt.show()\n",
    "\n",
    "    # plt.imshow(obj_mask, cmap='gray')\n",
    "    # plt.show()\n",
    "\n",
    "    # print('fmap max=',fmap.max(), 'min=',fmap.min())\n",
    "    # print('obj_mask max=',obj_mask.max(), 'min=',obj_mask.min())\n",
    "\n",
    "    # print('obj_mask.dtype=',obj_mask.dtype)\n",
    "    fmaask=(fmap >= _threshold).float()\n",
    "    # print('fmaask.dtype=',fmaask.dtype)\n",
    "\n",
    "    # print('fmaask max=',fmaask.max(), 'min=',fmaask.min())\n",
    "    # plt.imshow(fmaask, cmap='gray')\n",
    "    # plt.show()\n",
    "\n",
    "    union = torch.max(fmaask,obj_mask)\n",
    "    # plt.imshow(union, cmap='gray')\n",
    "    # plt.show()\n",
    "\n",
    "    intersect = torch.min(fmaask,obj_mask)\n",
    "    # plt.imshow(intersect, cmap='gray')\n",
    "    # plt.show()\n",
    "\n",
    "    _UoI = intersect.sum()/union.sum()\n",
    "    # print('IoU =', _UoI)\n",
    "\n",
    "    return _UoI.item()\n",
    "\n",
    "\n",
    "pbar = tqdm(bar_format='{desc}') \n",
    "\n",
    "sum = {'LSG': np.zeros(mask.shape), 'naive' :  np.zeros(mask.shape)}\n",
    "num = {'LSG': np.zeros(mask.shape), 'naive' :  np.zeros(mask.shape)}\n",
    "mean_score_filter = {'LSG': 0.0, 'naive' : 0.0}\n",
    "\n",
    "for img_id,(img, label, obj_mask, part_mask) in enumerate(dataset):\n",
    "    # print(label )\n",
    "    # print(*img.shape)\n",
    "    img = img.view(1,*img.shape).to(device)\n",
    "    for method in ['LSG', 'naive']:\n",
    "        feature_map = model[method](img)[0].detach().cpu()\n",
    "\n",
    "        for channel, fmap in enumerate(feature_map):\n",
    "\n",
    "            fmap = fmap\n",
    "            # print('feature_map', feature_map.shape)\n",
    "            \n",
    "            IoU = get_IoU(fmap, obj_mask, threshold[method][channel])\n",
    "            # print('IoU =', IoU)\n",
    "\n",
    "            sum[method][channel, label] += int(IoU>UoI_threshold)\n",
    "            num[method][channel, label] += 1\n",
    "\n",
    "            # if channel == 11:\n",
    "            #     break\n",
    "        #     break\n",
    "        # break\n",
    "\n",
    "        meanIoU = dev_zero_replace(sum[method], num[method])\n",
    "        score_filter = meanIoU.max(axis=1)\n",
    "        mean_score_filter[method] = score_filter.mean()\n",
    "        \n",
    "    pbar.set_description_str('img_num %6d  mean_score_filter LSG : naive = %5f : %5f' % (img_id, mean_score_filter['LSG'], mean_score_filter['naive']) )\n",
    "    pbar.update()\n",
    "\n",
    "\n",
    "\n",
    "\n",
    "\n",
    "# meanIoU = sum/num\n",
    "\n"
   ]
  },
  {
   "cell_type": "code",
   "execution_count": 6,
   "metadata": {},
   "outputs": [
    {
     "name": "stderr",
     "output_type": "stream",
     "text": "img      4  mean_score_filter LSG : naive = 0.418620 : 0.672201\n"
    }
   ],
   "source": [
    "pbar.close()\n"
   ]
  },
  {
   "cell_type": "code",
   "execution_count": 26,
   "metadata": {},
   "outputs": [
    {
     "name": "stdout",
     "output_type": "stream",
     "text": "bird,cat,dog,cow,horse,sheep\nLSG\nrelated_filter_num,198.0,351.0,899.0,166.0,266.0,168.0\nrelated_filter_mean_score,0.4227321445970964,0.4312945671327174,0.6889643200965696,0.4045700041545492,0.36130374479889044,0.3840495547812622\naverage_score,0.5284423942724791\nnaive\nrelated_filter_num,284.0,351.0,291.0,351.0,381.0,390.0\nrelated_filter_mean_score,0.04129115529187989,0.046917971773463095,0.0438182854853374,0.05389527458492976,0.05330887037178605,0.055805711903272874\naverage_score,0.049774495070727474\n"
    }
   ],
   "source": [
    "related_filter_num = {}\n",
    "related_filter_mean_score = {}\n",
    "\n",
    "for method in ['LSG', 'naive']:\n",
    "    meanIoU = dev_zero_replace(sum[method], num[method])\n",
    "    score_filter = meanIoU.max(axis=1)\n",
    "    filter_related_class = meanIoU.argmax(axis=1)\n",
    "    related_filter_num[method]=np.zeros(num_class)\n",
    "    related_filter_mean_score[method]=np.zeros([num_class])\n",
    "    for cid, class_name in enumerate(dataset.classes):\n",
    "        score_related_to_class = score_filter[filter_related_class==cid]\n",
    "        related_filter_num[method][cid] = len(score_related_to_class)\n",
    "        related_filter_mean_score[method][cid] = score_related_to_class.mean() \n",
    "\n",
    "print(*dataset.classes, sep=',')\n",
    "for method in ['LSG', 'naive']:\n",
    "    print(method)\n",
    "    print('related_filter_num',*related_filter_num[method], sep=',')\n",
    "    print('related_filter_mean_score',*related_filter_mean_score[method], sep=',')\n",
    "    print('average_score', (related_filter_num[method]*related_filter_mean_score[method]).sum() / related_filter_num[method].sum() , sep=',')"
   ]
  },
  {
   "cell_type": "code",
   "execution_count": null,
   "metadata": {},
   "outputs": [],
   "source": []
  }
 ]
}