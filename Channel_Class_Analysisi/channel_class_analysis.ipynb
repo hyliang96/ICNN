{
 "cells": [
  {
   "cell_type": "code",
   "execution_count": 14,
   "metadata": {},
   "outputs": [
    {
     "name": "stdout",
     "output_type": "stream",
     "text": [
      "4\n",
      "average/var for each class 10.0 0.0\n",
      "average/var for share class 0.9 0.09\n",
      "[10, 10, 10, 10, 10, 10, 10, 10, 10, 10]\n",
      "[[0 1 1 1 1 1 1 1 1 1]\n",
      " [1 0 1 1 1 1 1 1 1 1]\n",
      " [1 1 0 1 1 1 1 1 1 1]\n",
      " [1 1 1 0 1 1 1 1 1 1]\n",
      " [1 1 1 1 0 1 1 1 1 1]\n",
      " [1 1 1 1 1 0 1 1 1 1]\n",
      " [1 1 1 1 1 1 0 1 1 1]\n",
      " [1 1 1 1 1 1 1 0 1 1]\n",
      " [1 1 1 1 1 1 1 1 0 1]\n",
      " [1 1 1 1 1 1 1 1 1 0]]\n"
     ]
    }
   ],
   "source": [
    "import numpy as np\n",
    "w = np.zeros((10,64))\n",
    "average_filters_num = 6\n",
    "common = 64 - average_filters_num * 10\n",
    "print(common)\n",
    "for i in range(10):\n",
    "    w[i , i*average_filters_num : (i+1)*average_filters_num] = 1\n",
    "w[:,-common:] = 1\n",
    "\n",
    "class_num = 10\n",
    "channel_num = 64\n",
    "count_for_one = 0.95\n",
    "count_for_share = 0.5\n",
    "\n",
    "w_count = []\n",
    "class_c_relation = np.zeros((class_num, class_num), int)\n",
    "for i in range(class_num):\n",
    "    w_count += [sum(w[i,:]>count_for_one)]\n",
    "\n",
    "for i in range(channel_num):\n",
    "    relation = w[:,i] > count_for_share\n",
    "    for idx1 in range(class_num):\n",
    "        for idx2 in range(class_num):\n",
    "            if(relation[idx1] == True and relation[idx2] == True):\n",
    "                class_c_relation[idx1][idx2] = 1\n",
    "    np.fill_diagonal(class_c_relation, 0)\n",
    "    \n",
    "print('average/var for each class', np.average(w_count),np.var(w_count) )\n",
    "print('average/var for share class', np.average(class_c_relation),np.var(class_c_relation))\n",
    "    \n",
    "print(w_count)\n",
    "print(class_c_relation)\n",
    "\n"
   ]
  },
  {
   "cell_type": "code",
   "execution_count": 15,
   "metadata": {},
   "outputs": [
    {
     "data": {
      "image/png": "[encoded data removed]",
      "text/plain": [
       "<Figure size 1440x432 with 2 Axes>"
      ]
     },
     "metadata": {
      "needs_background": "light"
     },
     "output_type": "display_data"
    }
   ],
   "source": [
    "import matplotlib.pyplot as plt    # 绘图库\n",
    "import os\n",
    "weights = w\n",
    "fig = plt.figure(figsize=(20,6))\n",
    "ax = fig.add_subplot(111)\n",
    "im = ax.imshow(weights,cmap=plt.cm.jet)\n",
    "plt.colorbar(im,orientation='vertical')\n",
    "plt.title('ICNN Model')\n",
    "plt.show()"
   ]
  }
 ],
 "metadata": {
  "kernelspec": {
   "display_name": "Python 3",
   "language": "python",
   "name": "python3"
  },
  "language_info": {
   "codemirror_mode": {
    "name": "ipython",
    "version": 3
   },
   "file_extension": ".py",
   "mimetype": "text/x-python",
   "name": "python",
   "nbconvert_exporter": "python",
   "pygments_lexer": "ipython3",
   "version": "3.6.1"
  }
 },
 "nbformat": 4,
 "nbformat_minor": 2
}
