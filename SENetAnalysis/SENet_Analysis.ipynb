{
 "cells": [
  {
   "cell_type": "code",
   "execution_count": 1,
   "metadata": {},
   "outputs": [
    {
     "name": "stdout",
     "output_type": "stream",
     "text": [
      "Init Finished!\n"
     ]
    }
   ],
   "source": [
    "import os, sys\n",
    "import time\n",
    "import torch\n",
    "import torch.nn as nn\n",
    "from torch.autograd import Variable\n",
    "import numpy as np\n",
    "\n",
    "from models import ResNet as resnet_cifar\n",
    "import pandas as pd\n",
    "import argparse\n",
    "import csv\n",
    "from torch.optim.lr_scheduler import MultiStepLR\n",
    "from dataLoader import DataLoader\n",
    "\n",
    "from sklearn.metrics import confusion_matrix, classification_report    # 生成混淆矩阵函数\n",
    "import matplotlib.pyplot as plt    # 绘图库\n",
    "\n",
    "print('Init Finished!')"
   ]
  },
  {
   "cell_type": "code",
   "execution_count": 2,
   "metadata": {},
   "outputs": [],
   "source": [
    "args_depth = 20\n",
    "num_classes = 10\n",
    "args_dataset = 'cifar-10'\n",
    "args_batch_size = 1\n",
    "PATH = '../tb_dir/test_256bs_150epoch_layer3_MaskafterSenet'\n",
    "# PATH = '../tb_dir/cifar_exp/test_256bs_200epoch_layer3_1/3epoch'\n",
    "model_path = os.path.join(PATH, 'saved_model.pt')"
   ]
  },
  {
   "cell_type": "code",
   "execution_count": 3,
   "metadata": {},
   "outputs": [
    {
     "name": "stdout",
     "output_type": "stream",
     "text": [
      "Files already downloaded and verified\n",
      "Files already downloaded and verified\n"
     ]
    }
   ],
   "source": [
    "# Data Loader\n",
    "loader = DataLoader(args_dataset,batch_size=args_batch_size)\n",
    "dataloaders,dataset_sizes = loader.load_data()"
   ]
  },
  {
   "cell_type": "code",
   "execution_count": 4,
   "metadata": {},
   "outputs": [
    {
     "name": "stdout",
     "output_type": "stream",
     "text": [
      "Successfully Load Model:  saved_model.pt\n"
     ]
    }
   ],
   "source": [
    "model = resnet_cifar(depth=args_depth, num_classes=num_classes)\n",
    "model = model.cuda()\n",
    "model = torch.nn.DataParallel(model)\n",
    "model.load_state_dict(torch.load(model_path))\n",
    "print('Successfully Load Model: ', os.path.basename(model_path))"
   ]
  },
  {
   "cell_type": "code",
   "execution_count": 5,
   "metadata": {},
   "outputs": [],
   "source": [
    "def printF(i, total=100):\n",
    "    i = int( i / total * 100) + 1\n",
    "    total = 100\n",
    "    k = i + 1\n",
    "    str_ = '>'*i + '' ''*(total-k)\n",
    "    sys.stdout.write('\\r'+str_+'[%s%%]'%(i+1))\n",
    "    sys.stdout.flush()\n",
    "    if(i >= total -1): print()"
   ]
  },
  {
   "cell_type": "code",
   "execution_count": 6,
   "metadata": {},
   "outputs": [
    {
     "name": "stdout",
     "output_type": "stream",
     "text": [
      ">[2%]val top1 Acc:0.0001\n"
     ]
    }
   ],
   "source": [
    "use_gpu = True\n",
    "epoch = 1\n",
    "phase = 'val'\n",
    "running_corrects = 0.0\n",
    "data_len = len(dataloaders[phase])\n",
    "# print(data_len)\n",
    "true_labels = []\n",
    "model_preds = []\n",
    "SEMasks = []\n",
    "for idx,data in enumerate(dataloaders[phase]):\n",
    "    printF(idx, data_len)\n",
    "    inputs,labels = data\n",
    "    if labels[0] == 0:\n",
    "        if use_gpu:\n",
    "            inputs = Variable(inputs.cuda())\n",
    "            labels = Variable(labels.cuda())\n",
    "        else:\n",
    "            inputs, labels = Variable(inputs), Variable(labels)\n",
    "        #forward\n",
    "        outputs,seMask = model(inputs, labels, epoch)\n",
    "        _, preds = torch.max(outputs.data, 1)\n",
    "        \n",
    "        SEMasks.append(seMask.cpu().detach().numpy())\n",
    "       \n",
    "        y = labels.data\n",
    "        batch_size = labels.data.shape[0]\n",
    "        \n",
    "        running_corrects += torch.sum(preds == y)\n",
    "        epoch_acc = float(running_corrects) /dataset_sizes[phase]\n",
    "        true_labels.extend(y.cpu().numpy())\n",
    "        model_preds.extend(preds.cpu().numpy())\n",
    "print('%s top1 Acc:%.4f'%(phase,epoch_acc))"
   ]
  },
  {
   "cell_type": "code",
   "execution_count": 7,
   "metadata": {},
   "outputs": [
    {
     "name": "stdout",
     "output_type": "stream",
     "text": [
      "1\n",
      "(64, 1, 1)\n"
     ]
    },
    {
     "data": {
      "image/png": "[encoded data removed]",
      "text/plain": [
       "<Figure size 432x288 with 1 Axes>"
      ]
     },
     "metadata": {
      "needs_background": "light"
     },
     "output_type": "display_data"
    }
   ],
   "source": [
    "print(len(SEMasks))\n",
    "SEMasks = np.array(SEMasks)\n",
    "avg_masks = np.mean(np.concatenate(SEMasks,axis=0),axis=0)\n",
    "print(avg_masks.shape)\n",
    "avg_masks = np.reshape(avg_masks,(64,))\n",
    "# avg_masks = np.mean(np.reshape(avg_masks,(64,64)),axis=1)\n",
    "    \n",
    "plt.figure()\n",
    "plt.bar(range(len(avg_masks)),avg_masks)\n",
    "plt.show()"
   ]
  },
  {
   "cell_type": "code",
   "execution_count": null,
   "metadata": {},
   "outputs": [],
   "source": []
  }
 ],
 "metadata": {
  "kernelspec": {
   "display_name": "Python [conda env:zengyuyuan]",
   "language": "python",
   "name": "conda-env-zengyuyuan-py"
  },
  "language_info": {
   "codemirror_mode": {
    "name": "ipython",
    "version": 3
   },
   "file_extension": ".py",
   "mimetype": "text/x-python",
   "name": "python",
   "nbconvert_exporter": "python",
   "pygments_lexer": "ipython3",
   "version": "3.6.8"
  }
 },
 "nbformat": 4,
 "nbformat_minor": 2
}
