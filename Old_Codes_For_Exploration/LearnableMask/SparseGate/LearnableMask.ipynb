{
 "cells": [
  {
   "cell_type": "code",
   "execution_count": 1,
   "metadata": {},
   "outputs": [
    {
     "name": "stdout",
     "output_type": "stream",
     "text": [
      "Initialization\n",
      "Init Finished!\n"
     ]
    }
   ],
   "source": [
    "import os, sys\n",
    "import time\n",
    "import torch\n",
    "import torch.nn as nn\n",
    "from torch.autograd import Variable\n",
    "import numpy as np\n",
    "\n",
    "# from models import ResNet as resnet_cifar\n",
    "\n",
    "from models import ResNet as resnet_cifar\n",
    "\n",
    "import pandas as pd\n",
    "import argparse\n",
    "import csv\n",
    "from torch.optim.lr_scheduler import MultiStepLR\n",
    "from dataLoader import DataLoader\n",
    "\n",
    "from sklearn.metrics import confusion_matrix, classification_report    # 生成混淆矩阵函数\n",
    "import matplotlib.pyplot as plt    # 绘图库\n",
    "import os\n",
    "\n",
    "print('Initialization')\n",
    "print('Init Finished!')"
   ]
  },
  {
   "cell_type": "code",
   "execution_count": 2,
   "metadata": {},
   "outputs": [],
   "source": [
    "args_depth = 20\n",
    "num_classes = 10\n",
    "args_dataset = 'cifar-10'\n",
    "args_batch_size = 256\n",
    "args_depth = 20\n",
    "num_classes = 10\n",
    "\n",
    "PATH = '../tb_dir/learnable_mask/test_256bs_200epoch_layer3_noL1'"
   ]
  },
  {
   "cell_type": "code",
   "execution_count": 3,
   "metadata": {},
   "outputs": [
    {
     "name": "stdout",
     "output_type": "stream",
     "text": [
      "Files already downloaded and verified\n",
      "Files already downloaded and verified\n"
     ]
    }
   ],
   "source": [
    "# Data Loader\n",
    "loader = DataLoader(args_dataset,batch_size=args_batch_size)\n",
    "dataloaders,dataset_sizes = loader.load_data()"
   ]
  },
  {
   "cell_type": "code",
   "execution_count": 4,
   "metadata": {},
   "outputs": [],
   "source": [
    "def load_model(path):\n",
    "    model_path = os.path.join(path, 'saved_model.pt')\n",
    "    model = resnet_cifar(depth=args_depth, num_classes=num_classes)\n",
    "#     model = AlexNet(num_classes=num_classes)\n",
    "    model = model.cuda()\n",
    "    model = torch.nn.DataParallel(model)\n",
    "\n",
    "    model.load_state_dict(torch.load(model_path))\n",
    "#     model = torch.load(model_path)\n",
    "    print('Successfully Load Model: ', os.path.basename(model_path))\n",
    "    return model"
   ]
  },
  {
   "cell_type": "code",
   "execution_count": 5,
   "metadata": {},
   "outputs": [],
   "source": [
    "def printF(i, total=100):\n",
    "    i = int( i / total * 100) + 1\n",
    "    total = 100\n",
    "    k = i + 1\n",
    "    str_ = '>'*i + '' ''*(total-k)\n",
    "    sys.stdout.write('\\r'+str_+'[%s%%]'%(i+1))\n",
    "    sys.stdout.flush()\n",
    "    if(i >= total -1): print()"
   ]
  },
  {
   "cell_type": "code",
   "execution_count": 6,
   "metadata": {},
   "outputs": [],
   "source": [
    "def get_weights(model):\n",
    "    conv_layers_weights = dict()\n",
    "    for name, param in model.named_parameters():\n",
    "#         print(name,param.shape)\n",
    "        conv_layers_weights[name] = param\n",
    "        if name == 'module.mask':\n",
    "            return param"
   ]
  },
  {
   "cell_type": "code",
   "execution_count": 7,
   "metadata": {},
   "outputs": [
    {
     "name": "stdout",
     "output_type": "stream",
     "text": [
      "Successfully Load Model:  saved_model.pt\n",
      "(10, 64)\n"
     ]
    }
   ],
   "source": [
    "model = load_model(PATH)\n",
    "weights = get_weights(model)\n",
    "weights = weights.cpu().detach().numpy()\n",
    "weights = np.transpose(weights)\n",
    "print(weights.shape)\n"
   ]
  },
  {
   "cell_type": "code",
   "execution_count": 8,
   "metadata": {},
   "outputs": [
    {
     "data": {
      "image/png": "[encoded data removed]",
      "text/plain": [
       "<Figure size 1440x432 with 2 Axes>"
      ]
     },
     "metadata": {
      "needs_background": "light"
     },
     "output_type": "display_data"
    }
   ],
   "source": [
    "fig = plt.figure(figsize=(20,6))\n",
    "ax = fig.add_subplot(111)\n",
    "im = ax.imshow(weights,cmap=plt.cm.jet)\n",
    "plt.colorbar(im,orientation='vertical')\n",
    "plt.title('ICNN Model')\n",
    "plt.show()"
   ]
  },
  {
   "cell_type": "code",
   "execution_count": null,
   "metadata": {},
   "outputs": [],
   "source": []
  }
 ],
 "metadata": {
  "kernelspec": {
   "display_name": "Python [conda env:zengyuyuan]",
   "language": "python",
   "name": "conda-env-zengyuyuan-py"
  },
  "language_info": {
   "codemirror_mode": {
    "name": "ipython",
    "version": 3
   },
   "file_extension": ".py",
   "mimetype": "text/x-python",
   "name": "python",
   "nbconvert_exporter": "python",
   "pygments_lexer": "ipython3",
   "version": "3.6.8"
  }
 },
 "nbformat": 4,
 "nbformat_minor": 2
}
