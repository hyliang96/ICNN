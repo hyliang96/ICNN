{
 "cells": [
  {
   "cell_type": "code",
   "execution_count": 1,
   "metadata": {},
   "outputs": [
    {
     "name": "stdout",
     "output_type": "stream",
     "text": [
      "Initialization\n",
      "Init Finished!\n"
     ]
    }
   ],
   "source": [
    "import os, sys\n",
    "import time\n",
    "import torch\n",
    "import torch.nn as nn\n",
    "from torch.autograd import Variable\n",
    "import numpy as np\n",
    "\n",
    "# from models import ResNet as resnet_cifar\n",
    "\n",
    "from models import ResNet as resnet_cifar\n",
    "\n",
    "import pandas as pd\n",
    "import argparse\n",
    "import csv\n",
    "from torch.optim.lr_scheduler import MultiStepLR\n",
    "from dataLoader import DataLoader\n",
    "from summaries import TensorboardSummary\n",
    "\n",
    "from sklearn.metrics import confusion_matrix, classification_report    # 生成混淆矩阵函数\n",
    "import matplotlib.pyplot as plt    # 绘图库\n",
    "# import torch\n",
    "# torch.cuda.set_device(0)\n",
    "import os\n",
    "os.environ[\"CUDA_VISIBLE_DEVICES\"] = \"0\"\n",
    "\n",
    "print('Initialization')\n",
    "print('Init Finished!')"
   ]
  },
  {
   "cell_type": "code",
   "execution_count": 2,
   "metadata": {
    "collapsed": true
   },
   "outputs": [],
   "source": [
    "args_depth = 20\n",
    "num_classes = 10\n",
    "args_dataset = 'cifar-10'\n",
    "args_batch_size = 256\n",
    "# PATH = '../tb_dir/cifar_exp/step_regularize_5_1'\n",
    "args_depth = 20\n",
    "num_classes = 10\n",
    "\n",
    "PATH = './tb_exp/gumbel_mask/test_256bs_150epoch_layer3_senet'\n",
    "model_path = os.path.join(PATH, 'saved_model.pt')"
   ]
  },
  {
   "cell_type": "code",
   "execution_count": 3,
   "metadata": {},
   "outputs": [
    {
     "name": "stdout",
     "output_type": "stream",
     "text": [
      "Files already downloaded and verified\n",
      "Files already downloaded and verified\n"
     ]
    }
   ],
   "source": [
    "# Data Loader\n",
    "loader = DataLoader(args_dataset,batch_size=args_batch_size)\n",
    "dataloaders,dataset_sizes = loader.load_data()"
   ]
  },
  {
   "cell_type": "code",
   "execution_count": 4,
   "metadata": {},
   "outputs": [
    {
     "name": "stdout",
     "output_type": "stream",
     "text": [
      "Successfully Load Model:  saved_model.pt\n"
     ]
    }
   ],
   "source": [
    "model = resnet_cifar(depth=args_depth, num_classes=num_classes)\n",
    "model = model.cuda()\n",
    "model = torch.nn.DataParallel(model)\n",
    "# model = torch.load(model_path)\n",
    "\n",
    "model.load_state_dict(torch.load(model_path))\n",
    "print('Successfully Load Model: ', os.path.basename(model_path))"
   ]
  },
  {
   "cell_type": "code",
   "execution_count": 5,
   "metadata": {
    "collapsed": true
   },
   "outputs": [],
   "source": [
    "def printF(i, total=100):\n",
    "    i = int( i / total * 100) + 1\n",
    "    total = 100\n",
    "    k = i + 1\n",
    "    str_ = '>'*i + '' ''*(total-k)\n",
    "    sys.stdout.write('\\r'+str_+'[%s%%]'%(i+1))\n",
    "    sys.stdout.flush()\n",
    "    if(i >= total -1): print()"
   ]
  },
  {
   "cell_type": "code",
   "execution_count": 6,
   "metadata": {},
   "outputs": [],
   "source": [
    "valueCount = [0]*10\n",
    "# print(valueCount[0])\n",
    "def countMaskValue(mask):\n",
    "    global alueCount\n",
    "    for i in range(10):\n",
    "        if i == 0:\n",
    "            temp = (mask>=0.1*i) & (mask<=0.1*i+0.1) \n",
    "        else:\n",
    "            temp = (mask>0.1*i) & (mask<=0.1*i+0.1)\n",
    "        valueCount[i] = valueCount[i] + torch.sum(temp.int())"
   ]
  },
  {
   "cell_type": "code",
   "execution_count": 14,
   "metadata": {},
   "outputs": [],
   "source": [
    "def plotHistogram():\n",
    "    global valueCount\n",
    "    valueCount = np.array(valueCount)\n",
    "    valueCount = valueCount / np.sum(valueCount)\n",
    "    lim = np.arange(0,1,step=0.1)\n",
    "    plt.bar(lim,valueCount,width=0.08)\n",
    "    plt.title('SENet Mask')\n",
    "    plt.ylabel('Percentage')\n",
    "    plt.xlabel('Mask Value')\n",
    "    plt.show()"
   ]
  },
  {
   "cell_type": "code",
   "execution_count": 8,
   "metadata": {},
   "outputs": [
    {
     "name": "stdout",
     "output_type": "stream",
     "text": [
      ">>>>>>[7%]"
     ]
    },
    {
     "name": "stderr",
     "output_type": "stream",
     "text": [
      "/home/zengyuyuan/anaconda3/lib/python3.6/site-packages/torch/nn/functional.py:1006: UserWarning: nn.functional.sigmoid is deprecated. Use torch.sigmoid instead.\n",
      "  warnings.warn(\"nn.functional.sigmoid is deprecated. Use torch.sigmoid instead.\")\n"
     ]
    },
    {
     "name": "stdout",
     "output_type": "stream",
     "text": [
      ">>>>>>>>>>>>>>>>>>>>>>>>>>>>>>>>>>>>>>>>>>>>>>>>>>>>>>>>>>>>>>>>>>>>>>>>>>>>>>>>>>>>>>>>>>>>>>>>>>[99%]10000\n",
      "val top1 Acc:0.8675\n"
     ]
    }
   ],
   "source": [
    "use_gpu = True\n",
    "epoch = 1\n",
    "phase = 'val'\n",
    "running_corrects = 0.0\n",
    "data_len = len(dataloaders[phase])\n",
    "# print(data_len)\n",
    "true_labels = []\n",
    "model_preds = []\n",
    "for idx,data in enumerate(dataloaders[phase]):\n",
    "    printF(idx, data_len)\n",
    "    inputs,labels = data\n",
    "    if use_gpu:\n",
    "        inputs = Variable(inputs.to('cuda:0'))\n",
    "        labels = Variable(labels.to('cuda:0'))\n",
    "    else:\n",
    "        inputs, labels = Variable(inputs), Variable(labels)\n",
    "    #forward\n",
    "    outputs,mask = model(inputs, labels, epoch)\n",
    "    _, preds = torch.max(outputs.data, 1)\n",
    "    y = labels.data\n",
    "    batch_size = labels.data.shape[0]\n",
    "    \n",
    "    countMaskValue(mask)\n",
    "    \n",
    "    running_corrects += torch.sum(preds == y)\n",
    "    true_labels.extend(y.cpu().numpy())\n",
    "    model_preds.extend(preds.cpu().numpy())\n",
    "epoch_acc = float(running_corrects) /dataset_sizes[phase]\n",
    "print(dataset_sizes[phase])\n",
    "print('%s top1 Acc:%.4f'%(phase,epoch_acc))\n"
   ]
  },
  {
   "cell_type": "code",
   "execution_count": 15,
   "metadata": {},
   "outputs": [
    {
     "data": {
      "image/png": "[encoded data removed]",
      "text/plain": [
       "<matplotlib.figure.Figure at 0x7f074008dba8>"
      ]
     },
     "metadata": {},
     "output_type": "display_data"
    }
   ],
   "source": [
    "plotHistogram()"
   ]
  },
  {
   "cell_type": "code",
   "execution_count": null,
   "metadata": {
    "collapsed": true
   },
   "outputs": [],
   "source": []
  }
 ],
 "metadata": {
  "kernelspec": {
   "display_name": "Python 3",
   "language": "python",
   "name": "python3"
  },
  "language_info": {
   "codemirror_mode": {
    "name": "ipython",
    "version": 3
   },
   "file_extension": ".py",
   "mimetype": "text/x-python",
   "name": "python",
   "nbconvert_exporter": "python",
   "pygments_lexer": "ipython3",
   "version": "3.6.1"
  }
 },
 "nbformat": 4,
 "nbformat_minor": 2
}
