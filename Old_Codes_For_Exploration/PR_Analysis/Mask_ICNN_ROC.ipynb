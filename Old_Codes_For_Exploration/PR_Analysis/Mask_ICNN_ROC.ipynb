{
 "cells": [
  {
   "cell_type": "code",
   "execution_count": 1,
   "metadata": {},
   "outputs": [
    {
     "name": "stdout",
     "output_type": "stream",
     "text": [
      "Initialization\n",
      "Init Finished!\n"
     ]
    }
   ],
   "source": [
    "import os, sys\n",
    "import time\n",
    "import torch\n",
    "import torch.nn as nn\n",
    "from torch.autograd import Variable\n",
    "import numpy as np\n",
    "\n",
    "# from models import ResNet as resnet_cifar\n",
    "\n",
    "from model_analysis import ResNet as resnet_cifar\n",
    "import pandas as pd\n",
    "import argparse\n",
    "import csv\n",
    "from torch.optim.lr_scheduler import MultiStepLR\n",
    "from dataLoader import DataLoader\n",
    "from summaries import TensorboardSummary\n",
    "\n",
    "import matplotlib.pyplot as plt\n",
    "from sklearn.metrics import roc_curve,auc,precision_recall_curve\n",
    "import sklearn\n",
    "\n",
    "from sklearn.metrics import confusion_matrix, classification_report    # 生成混淆矩阵函数\n",
    "# from sklearn import cross_validation\n",
    "\n",
    "print('Initialization')\n",
    "print('Init Finished!')"
   ]
  },
  {
   "cell_type": "code",
   "execution_count": 2,
   "metadata": {},
   "outputs": [
    {
     "name": "stdout",
     "output_type": "stream",
     "text": [
      "Files already downloaded and verified\n",
      "Files already downloaded and verified\n",
      "Files already downloaded and verified\n"
     ]
    }
   ],
   "source": [
    "# Data Loader\n",
    "args_dataset = 'cifar-10'\n",
    "args_batch_size = 1024\n",
    "loader = DataLoader(args_dataset,batch_size=args_batch_size)\n",
    "dataloaders,dataset_sizes = loader.load_data()"
   ]
  },
  {
   "cell_type": "code",
   "execution_count": 3,
   "metadata": {
    "collapsed": true
   },
   "outputs": [],
   "source": [
    "def load_model(mask_value,path):\n",
    "    model = resnet_cifar(depth=args_depth, num_classes=num_classes,mask_value=mask_value)\n",
    "    model = model.cuda()\n",
    "    model = torch.nn.DataParallel(model)\n",
    "    model.load_state_dict(torch.load(path))\n",
    "    # model = torch.load(model_path)\n",
    "    print('Successfully Load Model: ', os.path.basename(path))\n",
    "    return model"
   ]
  },
  {
   "cell_type": "code",
   "execution_count": 4,
   "metadata": {
    "collapsed": true
   },
   "outputs": [],
   "source": [
    "def printF(i, total=100):\n",
    "    i = int( i / total * 100) + 1\n",
    "    total = 100\n",
    "    k = i + 1\n",
    "    str_ = '>'*i + '' ''*(total-k)\n",
    "    sys.stdout.write('\\r'+str_+'[%s%%]'%(i+1))\n",
    "    sys.stdout.flush()\n",
    "    if(i >= total -1): print()"
   ]
  },
  {
   "cell_type": "code",
   "execution_count": 5,
   "metadata": {},
   "outputs": [
    {
     "name": "stdout",
     "output_type": "stream",
     "text": [
      "0.18.1\n"
     ]
    }
   ],
   "source": [
    "labels_name = ('plane', 'car', 'bird', 'cat',\n",
    "           'deer', 'dog', 'frog', 'horse', 'ship', 'truck')\n",
    "print(sklearn.__version__)\n",
    "def predict(model):\n",
    "    use_gpu = True\n",
    "    epoch = 1\n",
    "    phase = 'val'\n",
    "    running_corrects = 0.0\n",
    "    data_len = len(dataloaders[phase])\n",
    "    # print(data_len)\n",
    "    true_labels = []\n",
    "    mul_labels = []\n",
    "    model_preds = []\n",
    "    y_scores = []\n",
    "    plane_number = 0\n",
    "    true_positive = 0\n",
    "    predict_plane = 0\n",
    "    for idx,data in enumerate(dataloaders[phase]):\n",
    "        printF(idx, data_len)\n",
    "        inputs,labels = data\n",
    "        if use_gpu:\n",
    "            inputs = Variable(inputs.cuda())\n",
    "            labels = Variable(labels.cuda())\n",
    "        else:\n",
    "            inputs, labels = Variable(inputs), Variable(labels)\n",
    "        #forward\n",
    "        outputs = model(inputs, labels, epoch)\n",
    "        _, preds = torch.max(outputs.data, 1)\n",
    "\n",
    "        y = labels.data\n",
    "        batch_size = labels.data.shape[0]\n",
    "        plane_scores = outputs[:,0]\n",
    "\n",
    "        running_corrects += torch.sum(preds == y)\n",
    "        plane_number += torch.sum(y==0)\n",
    "        true_positive += torch.sum(((preds==0)+(y==0))==2)\n",
    "#         print(torch.sum(y==0))\n",
    "#         print(true_positive)\n",
    "        predict_plane += torch.sum(preds==0)\n",
    "\n",
    "        true_labels.extend(y.cpu().numpy()==0)\n",
    "        mul_labels.extend(y.cpu().numpy())\n",
    "        model_preds.extend(preds.cpu().numpy())\n",
    "        y_scores.extend(plane_scores.cpu().detach().numpy())\n",
    "\n",
    "    epoch_acc = float(running_corrects) /dataset_sizes[phase]\n",
    "#     print(dataset_sizes[phase])\n",
    "    print('%s top1 Acc:%.4f'%(phase,epoch_acc))\n",
    "#     print(true_positive)\n",
    "    if float(predict_plane) == 0:\n",
    "        plane_acc = 0.0\n",
    "        plane_recall = 0.0\n",
    "    else:\n",
    "        plane_acc = float(true_positive.data) / float(predict_plane)\n",
    "        plane_recall = float(true_positive.data) /  float(plane_number)\n",
    "    \n",
    "#     print(plane_acc)\n",
    "    \n",
    "#     classification_report = classification_report(mul_labels,model_preds,target_names=labels_name)\n",
    "    return true_labels,y_scores,plane_acc,plane_recall"
   ]
  },
  {
   "cell_type": "code",
   "execution_count": 6,
   "metadata": {},
   "outputs": [
    {
     "data": {
      "text/plain": [
       "<matplotlib.figure.Figure at 0x7fd876be3e80>"
      ]
     },
     "execution_count": 6,
     "metadata": {},
     "output_type": "execute_result"
    }
   ],
   "source": [
    "args_depth = 20\n",
    "num_classes = 10\n",
    "\n",
    "PATH_Mask0 = '../tb_dir/cifar_exp/test_256bs_150epoch_layer3_mask0_train_test'\n",
    "PATH_Mask1 = '../tb_dir/cifar_exp/test_256bs_150epoch_layer3_open'\n",
    "PATH = '../tb_dir/cifar_exp/baseline'\n",
    "# PATH = '../tb_dir/debug/icnn_4'\n",
    "baseline_model_path = os.path.join(PATH, 'saved_model.pt')\n",
    "model_path = os.path.join(PATH_Mask0, 'saved_model.pt')\n",
    "mask1_path = os.path.join(PATH_Mask1, 'saved_model.pt')\n",
    "\n",
    "plt.figure()\n",
    "lw = 2\n",
    "plt.figure(figsize=(6,6))  \n",
    "    "
   ]
  },
  {
   "cell_type": "code",
   "execution_count": 7,
   "metadata": {},
   "outputs": [
    {
     "name": "stdout",
     "output_type": "stream",
     "text": [
      "---------- icnn model ----------\n",
      "Successfully Load Model:  saved_model.pt\n",
      ">>>>>>>>>>>>>>>>>>>>>>>>>>>>>>>>>>>>>>>>>>>>>>>>>>>>>>>>>>>>>>>>>>>>>>>>>>>>>>>>>>>>>>>>>>>[92%]val top1 Acc:0.7447\n",
      "0.33122923588039865 0.997\n",
      "Successfully Load Model:  saved_model.pt\n",
      ">>>>>>>>>>>>>>>>>>>>>>>>>>>>>>>>>>>>>>>>>>>>>>>>>>>>>>>>>>>>>>>>>>>>>>>>>>>>>>>>>>>>>>>>>>>[92%]val top1 Acc:0.7661\n",
      "0.3616557734204793 0.996\n",
      "Successfully Load Model:  saved_model.pt\n",
      ">>>>>>>>>>>>>>>>>>>>>>>>>>>>>>>>>>>>>>>>>>>>>>>>>>>>>>>>>>>>>>>>>>>>>>>>>>>>>>>>>>>>>>>>>>>[92%]val top1 Acc:0.7849\n",
      "0.3949145808502185 0.994\n",
      "Successfully Load Model:  saved_model.pt\n",
      ">>>>>>>>>>>>>>>>>>>>>>>>>>>>>>>>>>>>>>>>>>>>>>>>>>>>>>>>>>>>>>>>>>>>>>>>>>>>>>>>>>>>>>>>>>>[92%]val top1 Acc:0.8026\n",
      "0.4304291287386216 0.993\n",
      "Successfully Load Model:  saved_model.pt\n",
      ">>>>>>>>>>>>>>>>>>>>>>>>>>>>>>>>>>>>>>>>>>>>>>>>>>>>>>>>>>>>>>>>>>>>>>>>>>>>>>>>>>>>>>>>>>>[92%]val top1 Acc:0.8163\n",
      "0.46326626111371083 0.99\n",
      "Successfully Load Model:  saved_model.pt\n",
      ">>>>>>>>>>>>>>>>>>>>>>>>>>>>>>>>>>>>>>>>>>>>>>>>>>>>>>>>>>>>>>>>>>>>>>>>>>>>>>>>>>>>>>>>>>>[92%]val top1 Acc:0.8285\n",
      "0.49748237663645517 0.988\n",
      "Successfully Load Model:  saved_model.pt\n",
      ">>>>>>>>>>>>>>>>>>>>>>>>>>>>>>>>>>>>>>>>>>>>>>>>>>>>>>>>>>>>>>>>>>>>>>>>>>>>>>>>>>>>>>>>>>>[92%]val top1 Acc:0.8374\n",
      "0.5284334763948498 0.985\n",
      "Successfully Load Model:  saved_model.pt\n",
      ">>>>>>>>>>>>>>>>>>>>>>>>>>>>>>>>>>>>>>>>>>>>>>>>>>>>>>>>>>>>>>>>>>>>>>>>>>>>>>>>>>>>>>>>>>>[92%]val top1 Acc:0.8470\n",
      "0.5668973471741637 0.983\n",
      "Successfully Load Model:  saved_model.pt\n",
      ">>>>>>>>>>>>>>>>>>>>>>>>>>>>>>>>>>>>>>>>>>>>>>>>>>>>>>>>>>>>>>>>>>>>>>>>>>>>>>>>>>>>>>>>>>>[92%]val top1 Acc:0.8545\n",
      "0.6046942557134033 0.979\n",
      "Successfully Load Model:  saved_model.pt\n",
      ">>>>>>>>>>>>>>>>>>>>>>>>>>>>>>>>>>>>>>>>>>>>>>>>>>>>>>>>>>>>>>>>>>>>>>>>>>>>>>>>>>>>>>>>>>>[92%]val top1 Acc:0.8600\n",
      "0.6363040629095675 0.971\n",
      "Successfully Load Model:  saved_model.pt\n",
      ">>>>>>>>>>>>>>>>>>>>>>>>>>>>>>>>>>>>>>>>>>>>>>>>>>>>>>>>>>>>>>>>>>>>>>>>>>>>>>>>>>>>>>>>>>>[92%]val top1 Acc:0.8650\n",
      "0.663923182441701 0.968\n",
      "Successfully Load Model:  saved_model.pt\n",
      ">>>>>>>>>>>>>>>>>>>>>>>>>>>>>>>>>>>>>>>>>>>>>>>>>>>>>>>>>>>>>>>>>>>>>>>>>>>>>>>>>>>>>>>>>>>[92%]val top1 Acc:0.8690\n",
      "0.6903225806451613 0.963\n",
      "Successfully Load Model:  saved_model.pt\n",
      ">>>>>>>>>>>>>>>>>>>>>>>>>>>>>>>>>>>>>>>>>>>>>>>>>>>>>>>>>>>>>>>>>>>>>>>>>>>>>>>>>>>>>>>>>>>[92%]val top1 Acc:0.8724\n",
      "0.7205438066465257 0.954\n",
      "Successfully Load Model:  saved_model.pt\n",
      ">>>>>>>>>>>>>>>>>>>>>>>>>>>>>>>>>>>>>>>>>>>>>>>>>>>>>>>>>>>>>>>>>>>>>>>>>>>>>>>>>>>>>>>>>>>[92%]val top1 Acc:0.8742\n",
      "0.74079874706343 0.946\n",
      "Successfully Load Model:  saved_model.pt\n",
      ">>>>>>>>>>>>>>>>>>>>>>>>>>>>>>>>>>>>>>>>>>>>>>>>>>>>>>>>>>>>>>>>>>>>>>>>>>>>>>>>>>>>>>>>>>>[92%]val top1 Acc:0.8774\n",
      "0.7757625721352019 0.941\n",
      "Successfully Load Model:  saved_model.pt\n",
      ">>>>>>>>>>>>>>>>>>>>>>>>>>>>>>>>>>>>>>>>>>>>>>>>>>>>>>>>>>>>>>>>>>>>>>>>>>>>>>>>>>>>>>>>>>>[92%]val top1 Acc:0.8789\n",
      "0.7935429056924383 0.934\n",
      "Successfully Load Model:  saved_model.pt\n",
      ">>>>>>>>>>>>>>>>>>>>>>>>>>>>>>>>>>>>>>>>>>>>>>>>>>>>>>>>>>>>>>>>>>>>>>>>>>>>>>>>>>>>>>>>>>>[92%]val top1 Acc:0.8796\n",
      "0.8136042402826855 0.921\n",
      "Successfully Load Model:  saved_model.pt\n",
      ">>>>>>>>>>>>>>>>>>>>>>>>>>>>>>>>>>>>>>>>>>>>>>>>>>>>>>>>>>>>>>>>>>>>>>>>>>>>>>>>>>>>>>>>>>>[92%]val top1 Acc:0.8797\n",
      "0.827742520398912 0.913\n",
      "Successfully Load Model:  saved_model.pt\n",
      ">>>>>>>>>>>>>>>>>>>>>>>>>>>>>>>>>>>>>>>>>>>>>>>>>>>>>>>>>>>>>>>>>>>>>>>>>>>>>>>>>>>>>>>>>>>[92%]val top1 Acc:0.8802\n",
      "0.8447146866230122 0.903\n",
      "Successfully Load Model:  saved_model.pt\n",
      ">>>>>>>>>>>>>>>>>>>>>>>>>>>>>>>>>>>>>>>>>>>>>>>>>>>>>>>>>>>>>>>>>>>>>>>>>>>>>>>>>>>>>>>>>>>[92%]val top1 Acc:0.8816\n",
      "0.8646034816247582 0.894\n"
     ]
    }
   ],
   "source": [
    "print('-'*10,'icnn model','-'*10)\n",
    "mask_value = 0\n",
    "num = 20\n",
    "step = 1.0/20\n",
    "precisions = []\n",
    "recalls = []\n",
    "for i in range(20):\n",
    "    model = load_model(mask_value,model_path)\n",
    "    mask0_true_labels,mask0_y_scores,acc,recall= predict(model)\n",
    "    print(acc,recall)\n",
    "#     acc,recall,threshold = precision_recall_curve(true_labels,y_scores)\n",
    "    precisions.append(acc)\n",
    "    recalls.append(recall)\n",
    "    mask_value += step\n",
    "\n"
   ]
  },
  {
   "cell_type": "code",
   "execution_count": 8,
   "metadata": {},
   "outputs": [
    {
     "name": "stdout",
     "output_type": "stream",
     "text": [
      "---------- baseline model ----------\n",
      "Successfully Load Model:  saved_model.pt\n",
      ">>>>>>>>>>>>>>>>>>>>>>>>>>>>>>>>>>>>>>>>>>>>>>>>>>>>>>>>>>>>>>>>>>>>>>>>>>>>>>>>>>>>>>>>>>>[92%]val top1 Acc:0.8793\n",
      "0.888 0.888\n",
      "Successfully Load Model:  saved_model.pt\n",
      ">>>>>>>>>>>>>>>>>>>>>>>>>>>>>>>>>>>>>>>>>>>>>>>>>>>>>>>>>>>>>>>>>>>>>>>>>>>>>>>>>>>>>>>>>>>[92%]val top1 Acc:0.8792\n",
      "0.8896690070210632 0.887\n",
      "Successfully Load Model:  saved_model.pt\n",
      ">>>>>>>>>>>>>>>>>>>>>>>>>>>>>>>>>>>>>>>>>>>>>>>>>>>>>>>>>>>>>>>>>>>>>>>>>>>>>>>>>>>>>>>>>>>[92%]val top1 Acc:0.8792\n",
      "0.8905622489959839 0.887\n",
      "Successfully Load Model:  saved_model.pt\n",
      ">>>>>>>>>>>>>>>>>>>>>>>>>>>>>>>>>>>>>>>>>>>>>>>>>>>>>>>>>>>>>>>>>>>>>>>>>>>>>>>>>>>>>>>>>>>[92%]val top1 Acc:0.8798\n",
      "0.8904522613065327 0.886\n",
      "Successfully Load Model:  saved_model.pt\n",
      ">>>>>>>>>>>>>>>>>>>>>>>>>>>>>>>>>>>>>>>>>>>>>>>>>>>>>>>>>>>>>>>>>>>>>>>>>>>>>>>>>>>>>>>>>>>[92%]val top1 Acc:0.8803\n",
      "0.8904522613065327 0.886\n",
      "Successfully Load Model:  saved_model.pt\n",
      ">>>>>>>>>>>>>>>>>>>>>>>>>>>>>>>>>>>>>>>>>>>>>>>>>>>>>>>>>>>>>>>>>>>>>>>>>>>>>>>>>>>>>>>>>>>[92%]val top1 Acc:0.8808\n",
      "0.8912386706948641 0.885\n",
      "Successfully Load Model:  saved_model.pt\n",
      ">>>>>>>>>>>>>>>>>>>>>>>>>>>>>>>>>>>>>>>>>>>>>>>>>>>>>>>>>>>>>>>>>>>>>>>>>>>>>>>>>>>>>>>>>>>[92%]val top1 Acc:0.8816\n",
      "0.8921370967741935 0.885\n",
      "Successfully Load Model:  saved_model.pt\n",
      ">>>>>>>>>>>>>>>>>>>>>>>>>>>>>>>>>>>>>>>>>>>>>>>>>>>>>>>>>>>>>>>>>>>>>>>>>>>>>>>>>>>>>>>>>>>[92%]val top1 Acc:0.8815\n",
      "0.8921370967741935 0.885\n",
      "Successfully Load Model:  saved_model.pt\n",
      ">>>>>>>>>>>>>>>>>>>>>>>>>>>>>>>>>>>>>>>>>>>>>>>>>>>>>>>>>>>>>>>>>>>>>>>>>>>>>>>>>>>>>>>>>>>[92%]val top1 Acc:0.8819\n",
      "0.8911290322580645 0.884\n",
      "Successfully Load Model:  saved_model.pt\n",
      ">>>>>>>>>>>>>>>>>>>>>>>>>>>>>>>>>>>>>>>>>>>>>>>>>>>>>>>>>>>>>>>>>>>>>>>>>>>>>>>>>>>>>>>>>>>[92%]val top1 Acc:0.8819\n",
      "0.8918099089989889 0.882\n",
      "Successfully Load Model:  saved_model.pt\n",
      ">>>>>>>>>>>>>>>>>>>>>>>>>>>>>>>>>>>>>>>>>>>>>>>>>>>>>>>>>>>>>>>>>>>>>>>>>>>>>>>>>>>>>>>>>>>[92%]val top1 Acc:0.8822\n",
      "0.8928210313447927 0.883\n",
      "Successfully Load Model:  saved_model.pt\n",
      ">>>>>>>>>>>>>>>>>>>>>>>>>>>>>>>>>>>>>>>>>>>>>>>>>>>>>>>>>>>>>>>>>>>>>>>>>>>>>>>>>>>>>>>>>>>[92%]val top1 Acc:0.8818\n",
      "0.8927125506072875 0.882\n",
      "Successfully Load Model:  saved_model.pt\n",
      ">>>>>>>>>>>>>>>>>>>>>>>>>>>>>>>>>>>>>>>>>>>>>>>>>>>>>>>>>>>>>>>>>>>>>>>>>>>>>>>>>>>>>>>>>>>[92%]val top1 Acc:0.8823\n",
      "0.8972533062054934 0.882\n",
      "Successfully Load Model:  saved_model.pt\n",
      ">>>>>>>>>>>>>>>>>>>>>>>>>>>>>>>>>>>>>>>>>>>>>>>>>>>>>>>>>>>>>>>>>>>>>>>>>>>>>>>>>>>>>>>>>>>[92%]val top1 Acc:0.8826\n",
      "0.8990825688073395 0.882\n",
      "Successfully Load Model:  saved_model.pt\n",
      ">>>>>>>>>>>>>>>>>>>>>>>>>>>>>>>>>>>>>>>>>>>>>>>>>>>>>>>>>>>>>>>>>>>>>>>>>>>>>>>>>>>>>>>>>>>[92%]val top1 Acc:0.8824\n",
      "0.8989795918367347 0.881\n",
      "Successfully Load Model:  saved_model.pt\n",
      ">>>>>>>>>>>>>>>>>>>>>>>>>>>>>>>>>>>>>>>>>>>>>>>>>>>>>>>>>>>>>>>>>>>>>>>>>>>>>>>>>>>>>>>>>>>[92%]val top1 Acc:0.8831\n",
      "0.9009193054136875 0.882\n",
      "Successfully Load Model:  saved_model.pt\n",
      ">>>>>>>>>>>>>>>>>>>>>>>>>>>>>>>>>>>>>>>>>>>>>>>>>>>>>>>>>>>>>>>>>>>>>>>>>>>>>>>>>>>>>>>>>>>[92%]val top1 Acc:0.8836\n",
      "0.9009193054136875 0.882\n",
      "Successfully Load Model:  saved_model.pt\n",
      ">>>>>>>>>>>>>>>>>>>>>>>>>>>>>>>>>>>>>>>>>>>>>>>>>>>>>>>>>>>>>>>>>>>>>>>>>>>>>>>>>>>>>>>>>>>[92%]val top1 Acc:0.8836\n",
      "0.9055441478439425 0.882\n",
      "Successfully Load Model:  saved_model.pt\n",
      ">>>>>>>>>>>>>>>>>>>>>>>>>>>>>>>>>>>>>>>>>>>>>>>>>>>>>>>>>>>>>>>>>>>>>>>>>>>>>>>>>>>>>>>>>>>[92%]val top1 Acc:0.8833\n",
      "0.9063786008230452 0.881\n",
      "Successfully Load Model:  saved_model.pt\n",
      ">>>>>>>>>>>>>>>>>>>>>>>>>>>>>>>>>>>>>>>>>>>>>>>>>>>>>>>>>>>>>>>>>>>>>>>>>>>>>>>>>>>>>>>>>>>[92%]val top1 Acc:0.8832\n",
      "0.9074074074074074 0.882\n"
     ]
    }
   ],
   "source": [
    "# assert False\n",
    "print('-'*10,'baseline model','-'*10)\n",
    "precisions_baseline = []\n",
    "recalls_baseline = []\n",
    "mask_value = 0\n",
    "for i in range(20):\n",
    "    model = load_model(mask_value,baseline_model_path)\n",
    "    base_true_labels,base_y_scores,acc,recall = predict(model)\n",
    "    print(acc,recall)\n",
    "#     acc,recall,threshold = precision_recall_curve(true_labels,y_scores)\n",
    "    precisions_baseline.append(acc)\n",
    "    recalls_baseline.append(recall)\n",
    "    mask_value += step\n"
   ]
  },
  {
   "cell_type": "code",
   "execution_count": 9,
   "metadata": {},
   "outputs": [
    {
     "name": "stdout",
     "output_type": "stream",
     "text": [
      "---------- icnn mask1 model ----------\n",
      "Successfully Load Model:  saved_model.pt\n",
      ">>>>>>>>>>>>>>>>>>>>>>>>>>>>>>>>>>>>>>>>>>>>>>>>>>>>>>>>>>>>>>>>>>>>>>>>>>>>>>>>>>>>>>>>>>>[92%]val top1 Acc:0.8073\n",
      "0.0 0.0\n",
      "Successfully Load Model:  saved_model.pt\n",
      ">>>>>>>>>>>>>>>>>>>>>>>>>>>>>>>>>>>>>>>>>>>>>>>>>>>>>>>>>>>>>>>>>>>>>>>>>>>>>>>>>>>>>>>>>>>[92%]val top1 Acc:0.8074\n",
      "0.0 0.0\n",
      "Successfully Load Model:  saved_model.pt\n",
      ">>>>>>>>>>>>>>>>>>>>>>>>>>>>>>>>>>>>>>>>>>>>>>>>>>>>>>>>>>>>>>>>>>>>>>>>>>>>>>>>>>>>>>>>>>>[92%]val top1 Acc:0.8071\n",
      "0.0 0.0\n",
      "Successfully Load Model:  saved_model.pt\n",
      ">>>>>>>>>>>>>>>>>>>>>>>>>>>>>>>>>>>>>>>>>>>>>>>>>>>>>>>>>>>>>>>>>>>>>>>>>>>>>>>>>>>>>>>>>>>[92%]val top1 Acc:0.8070\n",
      "1.0 0.001\n",
      "Successfully Load Model:  saved_model.pt\n",
      ">>>>>>>>>>>>>>>>>>>>>>>>>>>>>>>>>>>>>>>>>>>>>>>>>>>>>>>>>>>>>>>>>>>>>>>>>>>>>>>>>>>>>>>>>>>[92%]val top1 Acc:0.8092\n",
      "1.0 0.022\n",
      "Successfully Load Model:  saved_model.pt\n",
      ">>>>>>>>>>>>>>>>>>>>>>>>>>>>>>>>>>>>>>>>>>>>>>>>>>>>>>>>>>>>>>>>>>>>>>>>>>>>>>>>>>>>>>>>>>>[92%]val top1 Acc:0.8135\n",
      "1.0 0.062\n",
      "Successfully Load Model:  saved_model.pt\n",
      ">>>>>>>>>>>>>>>>>>>>>>>>>>>>>>>>>>>>>>>>>>>>>>>>>>>>>>>>>>>>>>>>>>>>>>>>>>>>>>>>>>>>>>>>>>>[92%]val top1 Acc:0.8205\n",
      "1.0 0.134\n",
      "Successfully Load Model:  saved_model.pt\n",
      ">>>>>>>>>>>>>>>>>>>>>>>>>>>>>>>>>>>>>>>>>>>>>>>>>>>>>>>>>>>>>>>>>>>>>>>>>>>>>>>>>>>>>>>>>>>[92%]val top1 Acc:0.8294\n",
      "0.9910313901345291 0.221\n",
      "Successfully Load Model:  saved_model.pt\n",
      ">>>>>>>>>>>>>>>>>>>>>>>>>>>>>>>>>>>>>>>>>>>>>>>>>>>>>>>>>>>>>>>>>>>>>>>>>>>>>>>>>>>>>>>>>>>[92%]val top1 Acc:0.8367\n",
      "0.9900332225913622 0.298\n",
      "Successfully Load Model:  saved_model.pt\n",
      ">>>>>>>>>>>>>>>>>>>>>>>>>>>>>>>>>>>>>>>>>>>>>>>>>>>>>>>>>>>>>>>>>>>>>>>>>>>>>>>>>>>>>>>>>>>[92%]val top1 Acc:0.8452\n",
      "0.9870801033591732 0.382\n",
      "Successfully Load Model:  saved_model.pt\n",
      ">>>>>>>>>>>>>>>>>>>>>>>>>>>>>>>>>>>>>>>>>>>>>>>>>>>>>>>>>>>>>>>>>>>>>>>>>>>>>>>>>>>>>>>>>>>[92%]val top1 Acc:0.8533\n",
      "0.9851063829787234 0.463\n",
      "Successfully Load Model:  saved_model.pt\n",
      ">>>>>>>>>>>>>>>>>>>>>>>>>>>>>>>>>>>>>>>>>>>>>>>>>>>>>>>>>>>>>>>>>>>>>>>>>>>>>>>>>>>>>>>>>>>[92%]val top1 Acc:0.8605\n",
      "0.9852941176470589 0.536\n",
      "Successfully Load Model:  saved_model.pt\n",
      ">>>>>>>>>>>>>>>>>>>>>>>>>>>>>>>>>>>>>>>>>>>>>>>>>>>>>>>>>>>>>>>>>>>>>>>>>>>>>>>>>>>>>>>>>>>[92%]val top1 Acc:0.8661\n",
      "0.9818181818181818 0.594\n",
      "Successfully Load Model:  saved_model.pt\n",
      ">>>>>>>>>>>>>>>>>>>>>>>>>>>>>>>>>>>>>>>>>>>>>>>>>>>>>>>>>>>>>>>>>>>>>>>>>>>>>>>>>>>>>>>>>>>[92%]val top1 Acc:0.8717\n",
      "0.9775784753363229 0.654\n",
      "Successfully Load Model:  saved_model.pt\n",
      ">>>>>>>>>>>>>>>>>>>>>>>>>>>>>>>>>>>>>>>>>>>>>>>>>>>>>>>>>>>>>>>>>>>>>>>>>>>>>>>>>>>>>>>>>>>[92%]val top1 Acc:0.8763\n",
      "0.9697386519944979 0.705\n",
      "Successfully Load Model:  saved_model.pt\n",
      ">>>>>>>>>>>>>>>>>>>>>>>>>>>>>>>>>>>>>>>>>>>>>>>>>>>>>>>>>>>>>>>>>>>>>>>>>>>>>>>>>>>>>>>>>>>[92%]val top1 Acc:0.8808\n",
      "0.9614890885750963 0.749\n",
      "Successfully Load Model:  saved_model.pt\n",
      ">>>>>>>>>>>>>>>>>>>>>>>>>>>>>>>>>>>>>>>>>>>>>>>>>>>>>>>>>>>>>>>>>>>>>>>>>>>>>>>>>>>>>>>>>>>[92%]val top1 Acc:0.8848\n",
      "0.9544364508393285 0.796\n",
      "Successfully Load Model:  saved_model.pt\n",
      ">>>>>>>>>>>>>>>>>>>>>>>>>>>>>>>>>>>>>>>>>>>>>>>>>>>>>>>>>>>>>>>>>>>>>>>>>>>>>>>>>>>>>>>>>>>[92%]val top1 Acc:0.8877\n",
      "0.9414414414414415 0.836\n",
      "Successfully Load Model:  saved_model.pt\n",
      ">>>>>>>>>>>>>>>>>>>>>>>>>>>>>>>>>>>>>>>>>>>>>>>>>>>>>>>>>>>>>>>>>>>>>>>>>>>>>>>>>>>>>>>>>>>[92%]val top1 Acc:0.8887\n",
      "0.9264069264069265 0.856\n",
      "Successfully Load Model:  saved_model.pt\n",
      ">>>>>>>>>>>>>>>>>>>>>>>>>>>>>>>>>>>>>>>>>>>>>>>>>>>>>>>>>>>>>>>>>>>>>>>>>>>>>>>>>>>>>>>>>>>[92%]val top1 Acc:0.8896\n",
      "0.9204665959703076 0.868\n"
     ]
    }
   ],
   "source": [
    "print('-'*10,'icnn mask1 model','-'*10)\n",
    "precisions_mask1 = []\n",
    "recalls_mask1 = []\n",
    "mask_value = 0\n",
    "for i in range(20):\n",
    "    model = load_model(mask_value,mask1_path)\n",
    "    mask1_true_labels,mask1_y_scores,acc,recall = predict(model)\n",
    "    print(acc,recall)\n",
    "#     acc,recall,threshold = precision_recall_curve(true_labels,y_scores)\n",
    "    precisions_mask1.append(acc)\n",
    "    recalls_mask1.append(recall)\n",
    "    mask_value += step\n"
   ]
  },
  {
   "cell_type": "code",
   "execution_count": 10,
   "metadata": {},
   "outputs": [
    {
     "data": {
      "text/plain": [
       "<matplotlib.figure.Figure at 0x7fd876be33c8>"
      ]
     },
     "metadata": {},
     "output_type": "display_data"
    },
    {
     "data": {
      "image/png": "[encoded data removed]",
      "text/plain": [
       "<matplotlib.figure.Figure at 0x7fd876be3e80>"
      ]
     },
     "metadata": {},
     "output_type": "display_data"
    }
   ],
   "source": [
    "\n",
    "# plt.plot(recalls_baseline,precisions_baseline, color='darkorange',\n",
    "#          lw=lw, label='Baseline PR mask curve') ###假正率为横坐标，真正率为纵坐标做曲线\n",
    "# plt.plot(recall,acc,color='green',\n",
    "#          lw=lw, label='Baseline PR curve') ###假正率为横坐标，真正率为纵坐标做曲线\n",
    "# plt.plot(recall,acc,color='blue',\n",
    "#          lw=lw, label='Mask1 PR curve') ###假正率为横坐标，真正率为纵坐标做曲线\n",
    "plt.plot(recalls,precisions,color='red',\n",
    "         lw=lw, label='Mask0 PR curve') ###假正率为横坐标，真正率为纵坐标做曲线\n",
    "acc,recall,threshold = precision_recall_curve(mask0_true_labels,mask0_y_scores)\n",
    "plt.plot(recall,acc,color='red',\n",
    "         lw=lw, label='Mask0 PR curve threshold', linestyle='--') ###假正率为横坐标，真正率为纵坐标做曲线\n",
    "\n",
    "plt.plot(recalls_baseline,precisions_baseline,color='green',\n",
    "         lw=lw, label='Baseline PR curve') ###假正率为横坐标，真正率为纵坐标做曲线\n",
    "acc,recall,threshold = precision_recall_curve(base_true_labels,base_y_scores)\n",
    "plt.plot(recall,acc,color='green',\n",
    "         lw=lw, label='Baseline PR curve threshold', linestyle='--')\n",
    "\n",
    "plt.plot(recalls_mask1,precisions_mask1,color='darkorange',\n",
    "         lw=lw, label='Mask1 PR curve') ###假正率为横坐标，真正率为纵坐标做曲线\n",
    "acc,recall,threshold = precision_recall_curve(mask1_true_labels,mask1_y_scores)\n",
    "plt.plot(recall,acc,color='darkorange',\n",
    "         lw=lw, label='Mask1 PR curve threshold', linestyle='--')\n",
    "\n",
    "plt.plot([1, 0], [0, 1], color='navy', lw=lw, linestyle='--')\n",
    "plt.xlim([0.0, 1.0])\n",
    "plt.ylim([0.0, 1.05])\n",
    "plt.xlabel('Recall')\n",
    "plt.ylabel('Precision')\n",
    "# plt.title('Receiver operating characteristic example')\n",
    "plt.legend(loc=\"lower right\")\n",
    "plt.show()"
   ]
  },
  {
   "cell_type": "code",
   "execution_count": null,
   "metadata": {
    "collapsed": true
   },
   "outputs": [],
   "source": []
  }
 ],
 "metadata": {
  "kernelspec": {
   "display_name": "Python 3",
   "language": "python",
   "name": "python3"
  },
  "language_info": {
   "codemirror_mode": {
    "name": "ipython",
    "version": 3
   },
   "file_extension": ".py",
   "mimetype": "text/x-python",
   "name": "python",
   "nbconvert_exporter": "python",
   "pygments_lexer": "ipython3",
   "version": "3.6.1"
  }
 },
 "nbformat": 4,
 "nbformat_minor": 2
}
