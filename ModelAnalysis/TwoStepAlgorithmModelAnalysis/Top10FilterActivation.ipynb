{
 "cells": [
  {
   "cell_type": "code",
   "execution_count": 3,
   "metadata": {},
   "outputs": [
    {
     "name": "stdout",
     "output_type": "stream",
     "text": [
      "Init Finished!\n"
     ]
    }
   ],
   "source": [
    "import os, sys\n",
    "import time\n",
    "import torch\n",
    "import torch.nn as nn\n",
    "from torch.autograd import Variable\n",
    "import numpy as np\n",
    "\n",
    "from models import ResNet as resnet_cifar\n",
    "import pandas as pd\n",
    "import argparse\n",
    "import csv\n",
    "from torch.optim.lr_scheduler import MultiStepLR\n",
    "from dataLoader import DataLoader\n",
    "\n",
    "from PIL import Image, ImageDraw\n",
    "\n",
    "from sklearn.metrics import confusion_matrix, classification_report    # 生成混淆矩阵函数\n",
    "import matplotlib.pyplot as plt    # 绘图库\n",
    "\n",
    "print('Init Finished!')"
   ]
  },
  {
   "cell_type": "code",
   "execution_count": 4,
   "metadata": {},
   "outputs": [],
   "source": [
    "args_depth = 20\n",
    "num_classes = 10\n",
    "args_dataset = 'cifar-10'\n",
    "args_batch_size = 256"
   ]
  },
  {
   "cell_type": "code",
   "execution_count": 5,
   "metadata": {},
   "outputs": [
    {
     "name": "stdout",
     "output_type": "stream",
     "text": [
      "Files already downloaded and verified\n",
      "Files already downloaded and verified\n"
     ]
    }
   ],
   "source": [
    "# Data Loader\n",
    "loader = DataLoader(args_dataset,batch_size=args_batch_size)\n",
    "dataloaders,dataset_sizes = loader.load_data()"
   ]
  },
  {
   "cell_type": "code",
   "execution_count": 6,
   "metadata": {},
   "outputs": [],
   "source": [
    "def load_model(model_path):\n",
    "    model = resnet_cifar(depth=args_depth, num_classes=num_classes)\n",
    "    model = model.cuda()\n",
    "    model = torch.nn.DataParallel(model)\n",
    "    model.load_state_dict(torch.load(model_path))\n",
    "    print('Successfully Load Model: ', os.path.basename(model_path))\n",
    "    return model"
   ]
  },
  {
   "cell_type": "code",
   "execution_count": 7,
   "metadata": {},
   "outputs": [],
   "source": [
    "def printF(i, total=100):\n",
    "    i = int( i / total * 100) + 1\n",
    "    total = 100\n",
    "    k = i + 1\n",
    "    str_ = '>'*i + '' ''*(total-k)\n",
    "    sys.stdout.write('\\r'+str_+'[%s%%]'%(i+1))\n",
    "    sys.stdout.flush()\n",
    "    if(i >= total -1): print()\n",
    "# def get_weights(model):\n",
    "#     conv_layers_weights = dict()\n",
    "#     for name, param in model.named_parameters():\n",
    "# #         print(name,param.shape)\n",
    "#         conv_layers_weights[name] = param\n",
    "#         if name == 'module.mask':\n",
    "#             return param\n",
    "        \n",
    "def get_weights(model):\n",
    "    return model.module.lmask.get_channel_mask()\n",
    "#     return model.module.lmask.mask"
   ]
  },
  {
   "cell_type": "code",
   "execution_count": 8,
   "metadata": {},
   "outputs": [],
   "source": [
    "def predict_model(PATH, title,class_index):\n",
    "    use_gpu = True\n",
    "    epoch = 1\n",
    "    phase = 'val'\n",
    "    running_corrects = 0.0\n",
    "    data_len = len(dataloaders[phase])\n",
    "    # print(data_len)\n",
    "    true_labels = []\n",
    "    model_preds = []\n",
    "    model.train(False)\n",
    "    for idx,data in enumerate(dataloaders[phase]):\n",
    "        printF(idx, data_len)\n",
    "        inputs,labels = data\n",
    "        if use_gpu:\n",
    "            inputs = Variable(inputs.cuda())\n",
    "            labels = Variable(labels.cuda())\n",
    "        else:\n",
    "            inputs, labels = Variable(inputs), Variable(labels)\n",
    "            #forward\n",
    "        outputs, reg = model(inputs, labels, epoch)\n",
    "        _, preds = torch.max(outputs.data, 1)\n",
    "        y = labels.data\n",
    "        batch_size = labels.data.shape[0]\n",
    "        # print(y.resize_(batch_size,1))\n",
    "        running_corrects += torch.sum(preds == y)\n",
    "        # top5_corrects += torch.sum(top5_preds == y.resize_(batch_size,1))\n",
    "        true_labels.extend(y.cpu().numpy())\n",
    "        model_preds.extend(preds.cpu().numpy())\n",
    "    epoch_acc = float(running_corrects) /len(true_labels)\n",
    "    print('%s top1 Acc:%.4f'%(phase,epoch_acc))\n",
    "    \n",
    "    #Draw weights\n",
    "    weights = get_weights(model)\n",
    "    weights = weights.cpu().detach().numpy()\n",
    "    weights = np.transpose(weights)\n",
    "    print(weights.shape)\n",
    "    fig = plt.figure(figsize=(20,6))\n",
    "    ax = fig.add_subplot(111)\n",
    "    im = ax.imshow(weights,cmap=plt.cm.jet)\n",
    "    plt.colorbar(im,orientation='vertical')\n",
    "    plt.title(title)\n",
    "    plt.show()\n",
    "    return true_labels, model_preds,weights,true_labels"
   ]
  },
  {
   "cell_type": "code",
   "execution_count": 37,
   "metadata": {},
   "outputs": [],
   "source": [
    "labels_name = ('plane', 'car', 'bird', 'cat',\n",
    "           'deer', 'dog', 'frog', 'horse', 'ship', 'truck')\n",
    "def visulizeFeature(weights,title,class_index,true_labels):\n",
    "    true_labels = np.array(true_labels)\n",
    "    activation_val = []\n",
    "    feature = np.concatenate(features_blobs,0)\n",
    "\n",
    "    channel = feature.shape[1]\n",
    "    sample_nums = feature.shape[0]\n",
    "    print(sample_nums)\n",
    "    \n",
    "    target_samples_index = np.where(true_labels==class_index)\n",
    "    target_feature = np.mean(feature[target_samples_index],axis=0)\n",
    "    print(target_feature.shape)\n",
    "    \n",
    "    target_feature = list(target_feature)\n",
    "    activation_val = list(enumerate(target_feature))\n",
    "    activation_val = sorted(activation_val,key=lambda item:item[1],reverse=True)\n",
    "    \n",
    "    #get top10 channel\n",
    "    top10_channel = []\n",
    "    for i in range(6):\n",
    "        top10_channel.append(activation_val[i][0])\n",
    "    print(top10_channel)\n",
    "    print(np.where(weights[class_index]>0.5))\n",
    "    \n",
    "    group_activate = []\n",
    "    for i in range(10):\n",
    "        index = np.where(true_labels==i)\n",
    "        class_feat = np.mean(feature[index],axis=0)\n",
    "        top10_activation = np.mean(class_feat[top10_channel])\n",
    "        group_activate.append(top10_activation)\n",
    "    \n",
    "    plt.figure(figsize=(6,6))\n",
    "    plt.ylim((0, 1.5))\n",
    "    plt.bar(range(len(group_activate)),group_activate,tick_label=list(labels_name))\n",
    "    plt.title(title)\n",
    "    plt.show()"
   ]
  },
  {
   "cell_type": "code",
   "execution_count": 38,
   "metadata": {},
   "outputs": [
    {
     "name": "stdout",
     "output_type": "stream",
     "text": [
      "Successfully Load Model:  saved_model.pt\n",
      ">>>>>>>>>>>>>>>>>>>>>>>>>>>>>>>>>>>>>>>>>>>>>>>>>>>>>>>>>>>>>>>>>>>>>>>>>>>>>>>>>>>>>>>>>>>>>>>>>>[99%]val top1 Acc:0.7401\n",
      "(10, 64)\n"
     ]
    },
    {
     "data": {
      "image/png": "[encoded data removed]",
      "text/plain": [
       "<Figure size 1440x432 with 2 Axes>"
      ]
     },
     "metadata": {
      "needs_background": "light"
     },
     "output_type": "display_data"
    }
   ],
   "source": [
    "PATH ='/data/ouyangzhihao/Exp/ICNN/LearnableMask/tb_dir/learnable_mask_baseline/TwoStep_Algorithm1_Clip_L21_LimitChannelClass'\n",
    "# PATH ='/data/ouyangzhihao/Exp/ICNN/LearnableMask/tb_dir/learnable_mask_baseline/TwoStep_NaiveCNN'\n",
    "# PATH = '/data/ouyangzhihao/Exp/ICNN/LearnableMask/tb_dir/learnable_mask/Relu_ResNet_LMask'\n",
    "title = PATH.split('/')[-1]\n",
    "model_path = os.path.join(PATH, 'saved_model.pt')\n",
    "\n",
    "model = load_model(model_path)\n",
    "# 该数组记录中间层结果\n",
    "features_blobs = []\n",
    "# 该函数由register_forward_hook调用，类似于event handler，当resnet前向传播时记录所需中间层结果\n",
    "def hook_feature(module, input, output):\n",
    "    output = output.data.cpu().numpy()\n",
    "    batch_size = output.shape[0]\n",
    "    channel = output.shape[1]\n",
    "    output = np.reshape(output,(batch_size,channel,-1))\n",
    "    filter_activation = np.reshape(np.mean(output,axis=-1),(batch_size,channel))\n",
    "    features_blobs.append(filter_activation)\n",
    "    # 需要输出的中间层名称，名称为resnet_for_vis的__init__函数中声明的。\n",
    "finalconv_name = 'layer3'\n",
    "# model.layer3.register_forward_hook(hook_feature)\n",
    "model._modules.get('module').layer3.register_forward_hook(hook_feature)\n",
    "\n",
    "class_index = 2\n",
    "true_labels, model_preds,weights,true_labels = predict_model(model_path, title,class_index)"
   ]
  },
  {
   "cell_type": "code",
   "execution_count": 39,
   "metadata": {},
   "outputs": [
    {
     "name": "stdout",
     "output_type": "stream",
     "text": [
      "10000\n",
      "(64,)\n",
      "[59, 16, 1, 54, 2, 37, 52, 61, 36, 6]\n",
      "(array([ 1, 52, 54, 55, 59]),)\n"
     ]
    },
    {
     "data": {
      "image/png": "[encoded data removed]",
      "text/plain": [
       "<Figure size 432x432 with 1 Axes>"
      ]
     },
     "metadata": {
      "needs_background": "light"
     },
     "output_type": "display_data"
    }
   ],
   "source": [
    "title = PATH.split('/')[-1]\n",
    "title = title + '(' + labels_name[class_index] + ')'\n",
    "visulizeFeature(weights,title,class_index,true_labels)"
   ]
  },
  {
   "cell_type": "code",
   "execution_count": null,
   "metadata": {},
   "outputs": [],
   "source": []
  }
 ],
 "metadata": {
  "kernelspec": {
   "display_name": "Python [conda env:zengyuyuan]",
   "language": "python",
   "name": "conda-env-zengyuyuan-py"
  },
  "language_info": {
   "codemirror_mode": {
    "name": "ipython",
    "version": 3
   },
   "file_extension": ".py",
   "mimetype": "text/x-python",
   "name": "python",
   "nbconvert_exporter": "python",
   "pygments_lexer": "ipython3",
   "version": "3.6.8"
  }
 },
 "nbformat": 4,
 "nbformat_minor": 2
}
